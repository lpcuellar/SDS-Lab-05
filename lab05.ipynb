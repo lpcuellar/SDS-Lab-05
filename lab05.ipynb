{
  "cells": [
    {
      "cell_type": "markdown",
      "metadata": {
        "id": "pXcaCZPoLG4u"
      },
      "source": [
        "\n",
        "# Laboratorio 05 --> Clasificación de Malware\n"
      ]
    },
    {
      "cell_type": "markdown",
      "metadata": {
        "id": "jiejAEVjLG4w"
      },
      "source": [
        "\n",
        "Universidad del Valle de Guatemala\\\n",
        "Security Data Science\\\n",
        "Luis Pedro Cuéllar - 18220\n"
      ]
    },
    {
      "cell_type": "markdown",
      "metadata": {
        "id": "frvKbgJRLG4x"
      },
      "source": [
        "\n",
        "### Parte 1 --> Análisis de Paquetes\n"
      ]
    },
    {
      "cell_type": "markdown",
      "metadata": {
        "id": "A_JMTaCmLG4y"
      },
      "source": [
        "\n",
        "#### Análisis de Paquetes\n"
      ]
    },
    {
      "cell_type": "code",
      "source": [
        "!pip install scapy"
      ],
      "metadata": {
        "colab": {
          "base_uri": "https://localhost:8080/"
        },
        "id": "28xEG5glLL5b",
        "outputId": "873f1ee5-4b03-4a0b-f322-7846352d9309"
      },
      "execution_count": null,
      "outputs": [
        {
          "output_type": "stream",
          "name": "stdout",
          "text": [
            "Collecting scapy\n",
            "  Downloading scapy-2.4.5.tar.gz (1.1 MB)\n",
            "\u001b[K     |████████████████████████████████| 1.1 MB 4.3 MB/s \n",
            "\u001b[?25hBuilding wheels for collected packages: scapy\n",
            "  Building wheel for scapy (setup.py) ... \u001b[?25l\u001b[?25hdone\n",
            "  Created wheel for scapy: filename=scapy-2.4.5-py2.py3-none-any.whl size=1261555 sha256=a24b84d21fd8f6bb4f5cf069da47d0a76daa5daaf4354100f421ca6d0c99b8b0\n",
            "  Stored in directory: /root/.cache/pip/wheels/b9/6e/c0/0157e466a5e02d3ff28fc7587dff329b4a967a23b3f9b11385\n",
            "Successfully built scapy\n",
            "Installing collected packages: scapy\n",
            "Successfully installed scapy-2.4.5\n"
          ]
        }
      ]
    },
    {
      "cell_type": "code",
      "execution_count": null,
      "metadata": {
        "id": "lVF0VxvqLG4z"
      },
      "outputs": [],
      "source": [
        "from scapy.all import * # Packet manipulation\n",
        "import pandas as pd # Pandas - Create and Manipulate DataFrames\n",
        "import numpy as np # Math Stuff (don't worry only used for one line :] )\n",
        "import binascii # Binary to Ascii \n",
        "import seaborn as sns\n",
        "sns.set(color_codes=True)\n",
        "%matplotlib inline"
      ]
    },
    {
      "cell_type": "markdown",
      "metadata": {
        "id": "d75hJ1AZLG40"
      },
      "source": [
        "**1. Capture 100 paquetes con la herramienta scapy, imprima el tipo de datos, la longitud y el \n",
        "contenido del pcap**"
      ]
    },
    {
      "cell_type": "code",
      "execution_count": null,
      "metadata": {
        "colab": {
          "base_uri": "https://localhost:8080/"
        },
        "id": "wVaaMF7eLG41",
        "outputId": "9262ee56-4db6-49cc-ae6c-3e52bcbf6703"
      },
      "outputs": [
        {
          "output_type": "stream",
          "name": "stdout",
          "text": [
            "<class 'scapy.plist.PacketList'>\n",
            "100\n",
            "<Sniffed: TCP:100 UDP:0 ICMP:0 Other:0>\n"
          ]
        },
        {
          "output_type": "execute_result",
          "data": {
            "text/plain": [
              "<Ether  dst=02:42:ac:1c:00:03 src=02:42:ac:1c:00:02 type=IPv4 |<IP  version=4 ihl=5 tos=0x0 len=772 id=33610 flags=DF frag=0 ttl=64 proto=6 chksum=0x5c6c src=172.28.0.2 dst=172.28.0.3 |<TCP  sport=9000 dport=60272 seq=3675746031 ack=2214514668 dataofs=8 reserved=0 flags=PA window=501 chksum=0x5b34 urgptr=0 options=[('NOP', None), ('NOP', None), ('Timestamp', (2295464169, 39336160))] |<Raw  load='\\\\x81~\\x02\\\\xcc{\"header\": {\"msg_id\": \"967cf963-63397333cd78aa0d6cee3c02\", \"msg_type\": \"execute_input\", \"username\": \"username\", \"session\": \"fb3d441e-69b23b0b5da5cf5ad96604ee\", \"date\": \"2022-04-09T01:23:14.715049Z\", \"version\": \"5.3\"}, \"msg_id\": \"967cf963-63397333cd78aa0d6cee3c02\", \"msg_type\": \"execute_input\", \"parent_header\": {\"msg_id\": \"e5b3cfc524c042d3c49ce16114048598\", \"username\": \"username\", \"session\": \"d584081d665e45ef834084790b93da25\", \"msg_type\": \"execute_request\", \"version\": \"5.0\", \"date\": \"2022-04-09T01:23:00.261691Z\"}, \"metadata\": {}, \"content\": {\"code\": \"sniffed = sniff(count = 100)\\\\n\\\\nprint(type(sniffed))\\\\nprint(len(sniffed))\\\\nprint(sniffed)\\\\nsniffed[0]\", \"execution_count\": 3}, \"buffers\": [], \"channel\": \"iopub\"}' |>>>>"
            ]
          },
          "metadata": {},
          "execution_count": 3
        }
      ],
      "source": [
        "sniffed = sniff(count = 100)\n",
        "\n",
        "print(type(sniffed))\n",
        "print(len(sniffed))\n",
        "print(sniffed)\n",
        "sniffed[0]"
      ]
    },
    {
      "cell_type": "code",
      "source": [
        "wrpcap(\"sniffed.pcap\", sniffed)"
      ],
      "metadata": {
        "id": "kCWSFUHtLxni"
      },
      "execution_count": null,
      "outputs": []
    },
    {
      "cell_type": "code",
      "source": [
        "og_pcap = rdpcap(\"analisis_paquetes.pcap\")\n",
        "len(og_pcap)"
      ],
      "metadata": {
        "colab": {
          "base_uri": "https://localhost:8080/"
        },
        "id": "BSaeV4JGMFCl",
        "outputId": "9db7d342-7c6a-4cfd-a1c4-897aa62d6e3c"
      },
      "execution_count": null,
      "outputs": [
        {
          "output_type": "execute_result",
          "data": {
            "text/plain": [
              "62"
            ]
          },
          "metadata": {},
          "execution_count": 7
        }
      ]
    },
    {
      "cell_type": "markdown",
      "source": [
        "**2. Añada al pcap de 100 paquetes el archivo analisis_paquetes.pcap**\n",
        "\n",
        "Para este inciso, se creó un pcap para no contaminar el archivo \"analisis_paquetes.pcap\""
      ],
      "metadata": {
        "id": "37ihqJagTgHR"
      }
    },
    {
      "cell_type": "code",
      "source": [
        "wrpcap(\"joined_packets.pcap\", sniffed, append = True)\n",
        "wrpcap(\"joined_packets.pcap\", og_pcap, append = True)\n",
        "new_pcap = rdpcap(\"joined_packets.pcap\")\n",
        "len(new_pcap)"
      ],
      "metadata": {
        "colab": {
          "base_uri": "https://localhost:8080/"
        },
        "id": "xALAdnaoMtNT",
        "outputId": "0c550541-0dfa-40eb-df8b-0565bef54114"
      },
      "execution_count": null,
      "outputs": [
        {
          "output_type": "execute_result",
          "data": {
            "text/plain": [
              "162"
            ]
          },
          "metadata": {},
          "execution_count": 8
        }
      ]
    },
    {
      "cell_type": "markdown",
      "source": [
        "**3. Convierta el pcap a un DataFrame**"
      ],
      "metadata": {
        "id": "otAqcs2vTy1p"
      }
    },
    {
      "cell_type": "markdown",
      "source": [
        "Exploramos cómo son los datos que se encuentran en el archivo joined_packets.pcap. Durante esta exploración obtenemos los tipos de datos"
      ],
      "metadata": {
        "id": "czw-DPU2T1x1"
      }
    },
    {
      "cell_type": "code",
      "source": [
        "ethernet_frame = new_pcap[0]\n",
        "ip_packet = ethernet_frame.payload\n",
        "segment = ip_packet.payload\n",
        "data = segment.payload #recupera la informacion de la capa 4\n",
        "\n",
        "print(\"Informacion del frame:\")\n",
        "print(ethernet_frame.summary())\n",
        "\n",
        "print(\"Informacion del paquete:\")\n",
        "print(ip_packet.summary())\n",
        "\n",
        "print(\"Informacion del segmento:\")\n",
        "print(segment.summary())\n",
        "\n",
        "print(\"Data:\")\n",
        "print(data.summary())\n",
        "\n",
        "ethernet_frame.show()\n",
        "data.show()"
      ],
      "metadata": {
        "colab": {
          "base_uri": "https://localhost:8080/"
        },
        "id": "umawT0CFRmAV",
        "outputId": "1fc2060c-324c-4a23-9d20-508bfd7fb83f"
      },
      "execution_count": null,
      "outputs": [
        {
          "output_type": "stream",
          "name": "stdout",
          "text": [
            "Informacion del frame:\n",
            "Ether / IP / TCP 172.28.0.2:9000 > 172.28.0.3:60272 PA / Raw\n",
            "Informacion del paquete:\n",
            "IP / TCP 172.28.0.2:9000 > 172.28.0.3:60272 PA / Raw\n",
            "Informacion del segmento:\n",
            "TCP 172.28.0.2:9000 > 172.28.0.3:60272 PA / Raw\n",
            "Data:\n",
            "Raw\n",
            "###[ Ethernet ]### \n",
            "  dst       = 02:42:ac:1c:00:03\n",
            "  src       = 02:42:ac:1c:00:02\n",
            "  type      = IPv4\n",
            "###[ IP ]### \n",
            "     version   = 4\n",
            "     ihl       = 5\n",
            "     tos       = 0x0\n",
            "     len       = 772\n",
            "     id        = 33610\n",
            "     flags     = DF\n",
            "     frag      = 0\n",
            "     ttl       = 64\n",
            "     proto     = 6\n",
            "     chksum    = 0x5c6c\n",
            "     src       = 172.28.0.2\n",
            "     dst       = 172.28.0.3\n",
            "     \\options   \\\n",
            "###[ TCP ]### \n",
            "        sport     = 9000\n",
            "        dport     = 60272\n",
            "        seq       = 3675746031\n",
            "        ack       = 2214514668\n",
            "        dataofs   = 8\n",
            "        reserved  = 0\n",
            "        flags     = PA\n",
            "        window    = 501\n",
            "        chksum    = 0x5b34\n",
            "        urgptr    = 0\n",
            "        options   = [('NOP', None), ('NOP', None), ('Timestamp', (2295464169, 39336160))]\n",
            "###[ Raw ]### \n",
            "           load      = '\\\\x81~\\x02\\\\xcc{\"header\": {\"msg_id\": \"967cf963-63397333cd78aa0d6cee3c02\", \"msg_type\": \"execute_input\", \"username\": \"username\", \"session\": \"fb3d441e-69b23b0b5da5cf5ad96604ee\", \"date\": \"2022-04-09T01:23:14.715049Z\", \"version\": \"5.3\"}, \"msg_id\": \"967cf963-63397333cd78aa0d6cee3c02\", \"msg_type\": \"execute_input\", \"parent_header\": {\"msg_id\": \"e5b3cfc524c042d3c49ce16114048598\", \"username\": \"username\", \"session\": \"d584081d665e45ef834084790b93da25\", \"msg_type\": \"execute_request\", \"version\": \"5.0\", \"date\": \"2022-04-09T01:23:00.261691Z\"}, \"metadata\": {}, \"content\": {\"code\": \"sniffed = sniff(count = 100)\\\\n\\\\nprint(type(sniffed))\\\\nprint(len(sniffed))\\\\nprint(sniffed)\\\\nsniffed[0]\", \"execution_count\": 3}, \"buffers\": [], \"channel\": \"iopub\"}'\n",
            "\n",
            "###[ Raw ]### \n",
            "  load      = '\\\\x81~\\x02\\\\xcc{\"header\": {\"msg_id\": \"967cf963-63397333cd78aa0d6cee3c02\", \"msg_type\": \"execute_input\", \"username\": \"username\", \"session\": \"fb3d441e-69b23b0b5da5cf5ad96604ee\", \"date\": \"2022-04-09T01:23:14.715049Z\", \"version\": \"5.3\"}, \"msg_id\": \"967cf963-63397333cd78aa0d6cee3c02\", \"msg_type\": \"execute_input\", \"parent_header\": {\"msg_id\": \"e5b3cfc524c042d3c49ce16114048598\", \"username\": \"username\", \"session\": \"d584081d665e45ef834084790b93da25\", \"msg_type\": \"execute_request\", \"version\": \"5.0\", \"date\": \"2022-04-09T01:23:00.261691Z\"}, \"metadata\": {}, \"content\": {\"code\": \"sniffed = sniff(count = 100)\\\\n\\\\nprint(type(sniffed))\\\\nprint(len(sniffed))\\\\nprint(sniffed)\\\\nsniffed[0]\", \"execution_count\": 3}, \"buffers\": [], \"channel\": \"iopub\"}'\n",
            "\n"
          ]
        }
      ]
    },
    {
      "cell_type": "code",
      "source": [
        "print(type(ethernet_frame))\n",
        "print(type(ip_packet))\n",
        "print(type(segment))\n",
        "\n",
        "# Packets can be filtered on layers ie) ethernet_frame[scapy.layers.l2.Ether]\n",
        "ethernet_type = type(ethernet_frame)\n",
        "ip_type = type(ip_packet)\n",
        "tcp_type = type(segment)\n",
        "print(\"Ethernet\",new_pcap[ethernet_type])\n",
        "print(\"IP\", new_pcap[ip_type])\n",
        "print(\"TCP\", new_pcap[tcp_type])\n",
        "\n",
        "# Scapy provides this via import statements\n",
        "from scapy.layers.l2 import Ether\n",
        "from scapy.layers.inet import IP\n",
        "from scapy.layers.inet import TCP, UDP\n",
        "\n",
        "print(\"UDP\", new_pcap[UDP])"
      ],
      "metadata": {
        "colab": {
          "base_uri": "https://localhost:8080/"
        },
        "id": "8BenMWI5RzhT",
        "outputId": "9a4c7af8-4a73-4589-cbf6-18ce317e15c8"
      },
      "execution_count": null,
      "outputs": [
        {
          "output_type": "stream",
          "name": "stdout",
          "text": [
            "<class 'scapy.layers.l2.Ether'>\n",
            "<class 'scapy.layers.inet.IP'>\n",
            "<class 'scapy.layers.inet.TCP'>\n",
            "Ethernet <Ether from joined_packets.pcap: TCP:100 UDP:62 ICMP:0 Other:0>\n",
            "IP <IP from joined_packets.pcap: TCP:100 UDP:62 ICMP:0 Other:0>\n",
            "TCP <TCP from joined_packets.pcap: TCP:100 UDP:0 ICMP:0 Other:0>\n",
            "UDP <UDP from joined_packets.pcap: TCP:0 UDP:62 ICMP:0 Other:0>\n"
          ]
        }
      ]
    },
    {
      "cell_type": "markdown",
      "source": [
        "Hacemos la creación del df a partir del archivo \"joined_packets.pcap\""
      ],
      "metadata": {
        "id": "D5tKLc81UFP8"
      }
    },
    {
      "cell_type": "code",
      "source": [
        "# Obtenemos los campos de IP/TCP/UDP que seran las columnas de nuestro DF\n",
        "ip_fields = [field.name for field in IP().fields_desc]\n",
        "tcp_fields = [field.name for field in TCP().fields_desc]\n",
        "udp_fields = [field.name for field in UDP().fields_desc]\n",
        "\n",
        "#Concatenamos todos los campos\n",
        "dataframe_fields = ip_fields + ['time'] + tcp_fields + ['payload','payload_raw','payload_hex']\n",
        "\n",
        "# Creamos un DF en blanco con los campos como columnas\n",
        "df = pd.DataFrame(columns=dataframe_fields)\n",
        "for packet in new_pcap[IP]:\n",
        "    # Obtenemos los valores de los campos de cada fila\n",
        "    field_values = []\n",
        "    # A;adimos todos los valores de los campos de IP al df\n",
        "    for field in ip_fields:\n",
        "        if field == 'options':\n",
        "            # Obtenemos el numero de opciones del IP Header\n",
        "            field_values.append(len(packet[IP].fields[field]))\n",
        "        else:\n",
        "            field_values.append(packet[IP].fields[field])\n",
        "    \n",
        "    field_values.append(packet.time)\n",
        "    \n",
        "    layer_type = type(packet[IP].payload)\n",
        "    for field in tcp_fields:\n",
        "        try:\n",
        "            if field == 'options':\n",
        "                field_values.append(len(packet[layer_type].fields[field]))\n",
        "            else:\n",
        "                field_values.append(packet[layer_type].fields[field])\n",
        "        except:\n",
        "            field_values.append(None)\n",
        "    \n",
        "    # Agregamos el payload\n",
        "    field_values.append(len(packet[layer_type].payload))\n",
        "    field_values.append(packet[layer_type].payload.original)\n",
        "    field_values.append(binascii.hexlify(packet[layer_type].payload.original))\n",
        "    # Agregamos la fila al df\n",
        "    df_append = pd.DataFrame([field_values], columns=dataframe_fields)\n",
        "    df = pd.concat([df, df_append], axis=0)\n",
        "\n",
        "# Reset Index\n",
        "df = df.reset_index()\n",
        "# Drop old index column\n",
        "df = df.drop(columns=\"index\")\n",
        "\n",
        "print(df.head(5))"
      ],
      "metadata": {
        "colab": {
          "base_uri": "https://localhost:8080/"
        },
        "id": "T3H1l0-9R9gL",
        "outputId": "22e42d0f-4397-4e00-b19d-1d82412dafcc"
      },
      "execution_count": null,
      "outputs": [
        {
          "output_type": "stream",
          "name": "stdout",
          "text": [
            "  version ihl tos  len     id flags frag ttl proto chksum  ... dataofs  \\\n",
            "0       4   5   0  772  33610    DF    0  64     6  23660  ...       8   \n",
            "1       4   5   0   52  43512    DF    0  64     6  14478  ...       8   \n",
            "2       4   5   0  772  13674    DF    0  64     6  43596  ...       8   \n",
            "3       4   5   0   52   7237    DF    0  64     6  50753  ...       8   \n",
            "4       4   5   0  462  26991    DF    0  64     6  30591  ...       8   \n",
            "\n",
            "  reserved flags window chksum urgptr options payload  \\\n",
            "0        0    PA    501  23348      0       3     720   \n",
            "1        0     A    501  22628      0       3       0   \n",
            "2        0    PA    501  23348      0       3     720   \n",
            "3        0     A    501  22628      0       3       0   \n",
            "4        0    PA    501  23036      0       3     410   \n",
            "\n",
            "                                         payload_raw  \\\n",
            "0  b'\\x81~\\x02\\xcc{\"header\": {\"msg_id\": \"967cf963...   \n",
            "1                                                b''   \n",
            "2  b'\\x81~\\x02\\xcc{\"header\": {\"msg_id\": \"967cf963...   \n",
            "3                                                b''   \n",
            "4  b'GET /socket.io/?EIO=3&sid=bLja7thlvnel4RhMAA...   \n",
            "\n",
            "                                         payload_hex  \n",
            "0  b'817e02cc7b22686561646572223a207b226d73675f69...  \n",
            "1                                                b''  \n",
            "2  b'817e02cc7b22686561646572223a207b226d73675f69...  \n",
            "3                                                b''  \n",
            "4  b'474554202f736f636b65742e696f2f3f45494f3d3326...  \n",
            "\n",
            "[5 rows x 28 columns]\n"
          ]
        }
      ]
    },
    {
      "cell_type": "code",
      "source": [
        "df.info()"
      ],
      "metadata": {
        "colab": {
          "base_uri": "https://localhost:8080/"
        },
        "id": "BgzZB-wxaTzh",
        "outputId": "2281eaf7-acdb-42b7-ae1d-2f1d08315457"
      },
      "execution_count": null,
      "outputs": [
        {
          "output_type": "stream",
          "name": "stdout",
          "text": [
            "<class 'pandas.core.frame.DataFrame'>\n",
            "RangeIndex: 162 entries, 0 to 161\n",
            "Data columns (total 28 columns):\n",
            " #   Column       Non-Null Count  Dtype \n",
            "---  ------       --------------  ----- \n",
            " 0   version      162 non-null    object\n",
            " 1   ihl          162 non-null    object\n",
            " 2   tos          162 non-null    object\n",
            " 3   len          162 non-null    object\n",
            " 4   id           162 non-null    object\n",
            " 5   flags        162 non-null    object\n",
            " 6   frag         162 non-null    object\n",
            " 7   ttl          162 non-null    object\n",
            " 8   proto        162 non-null    object\n",
            " 9   chksum       162 non-null    object\n",
            " 10  src          162 non-null    object\n",
            " 11  dst          162 non-null    object\n",
            " 12  options      162 non-null    object\n",
            " 13  time         162 non-null    object\n",
            " 14  sport        162 non-null    object\n",
            " 15  dport        162 non-null    object\n",
            " 16  seq          100 non-null    object\n",
            " 17  ack          100 non-null    object\n",
            " 18  dataofs      100 non-null    object\n",
            " 19  reserved     100 non-null    object\n",
            " 20  flags        100 non-null    object\n",
            " 21  window       100 non-null    object\n",
            " 22  chksum       162 non-null    object\n",
            " 23  urgptr       100 non-null    object\n",
            " 24  options      100 non-null    object\n",
            " 25  payload      162 non-null    object\n",
            " 26  payload_raw  162 non-null    object\n",
            " 27  payload_hex  162 non-null    object\n",
            "dtypes: object(28)\n",
            "memory usage: 35.6+ KB\n"
          ]
        }
      ]
    },
    {
      "cell_type": "markdown",
      "source": [
        "**4. Muestre los valores de las columnas: Src Addres, Dst Address, Src Port y Dst Port**"
      ],
      "metadata": {
        "id": "09-SOSd8UO7m"
      }
    },
    {
      "cell_type": "code",
      "source": [
        "df[['src','dst','sport','dport']]"
      ],
      "metadata": {
        "colab": {
          "base_uri": "https://localhost:8080/",
          "height": 419
        },
        "id": "wPdqGtC-SHNE",
        "outputId": "5deefb41-e0f8-4e8c-fe90-75d57c40433a"
      },
      "execution_count": null,
      "outputs": [
        {
          "output_type": "execute_result",
          "data": {
            "text/plain": [
              "             src          dst  sport  dport\n",
              "0     172.28.0.2   172.28.0.1   8080  56274\n",
              "1     172.28.0.1   172.28.0.2  56274   8080\n",
              "2     172.28.0.3   172.28.0.2  54862   9000\n",
              "3     172.28.0.2   172.28.0.3   9000  54862\n",
              "4     172.28.0.3   172.28.0.2  54862   9000\n",
              "..           ...          ...    ...    ...\n",
              "157  84.54.22.33   10.1.10.53     53     53\n",
              "158   10.1.10.53  84.54.22.33     53     53\n",
              "159  84.54.22.33   10.1.10.53     53     53\n",
              "160   10.1.10.53  84.54.22.33     53     53\n",
              "161  84.54.22.33   10.1.10.53     53     53\n",
              "\n",
              "[162 rows x 4 columns]"
            ],
            "text/html": [
              "\n",
              "  <div id=\"df-f8cf346a-f697-4af4-a8d0-1a6d7e8dd474\">\n",
              "    <div class=\"colab-df-container\">\n",
              "      <div>\n",
              "<style scoped>\n",
              "    .dataframe tbody tr th:only-of-type {\n",
              "        vertical-align: middle;\n",
              "    }\n",
              "\n",
              "    .dataframe tbody tr th {\n",
              "        vertical-align: top;\n",
              "    }\n",
              "\n",
              "    .dataframe thead th {\n",
              "        text-align: right;\n",
              "    }\n",
              "</style>\n",
              "<table border=\"1\" class=\"dataframe\">\n",
              "  <thead>\n",
              "    <tr style=\"text-align: right;\">\n",
              "      <th></th>\n",
              "      <th>src</th>\n",
              "      <th>dst</th>\n",
              "      <th>sport</th>\n",
              "      <th>dport</th>\n",
              "    </tr>\n",
              "  </thead>\n",
              "  <tbody>\n",
              "    <tr>\n",
              "      <th>0</th>\n",
              "      <td>172.28.0.2</td>\n",
              "      <td>172.28.0.1</td>\n",
              "      <td>8080</td>\n",
              "      <td>56274</td>\n",
              "    </tr>\n",
              "    <tr>\n",
              "      <th>1</th>\n",
              "      <td>172.28.0.1</td>\n",
              "      <td>172.28.0.2</td>\n",
              "      <td>56274</td>\n",
              "      <td>8080</td>\n",
              "    </tr>\n",
              "    <tr>\n",
              "      <th>2</th>\n",
              "      <td>172.28.0.3</td>\n",
              "      <td>172.28.0.2</td>\n",
              "      <td>54862</td>\n",
              "      <td>9000</td>\n",
              "    </tr>\n",
              "    <tr>\n",
              "      <th>3</th>\n",
              "      <td>172.28.0.2</td>\n",
              "      <td>172.28.0.3</td>\n",
              "      <td>9000</td>\n",
              "      <td>54862</td>\n",
              "    </tr>\n",
              "    <tr>\n",
              "      <th>4</th>\n",
              "      <td>172.28.0.3</td>\n",
              "      <td>172.28.0.2</td>\n",
              "      <td>54862</td>\n",
              "      <td>9000</td>\n",
              "    </tr>\n",
              "    <tr>\n",
              "      <th>...</th>\n",
              "      <td>...</td>\n",
              "      <td>...</td>\n",
              "      <td>...</td>\n",
              "      <td>...</td>\n",
              "    </tr>\n",
              "    <tr>\n",
              "      <th>157</th>\n",
              "      <td>84.54.22.33</td>\n",
              "      <td>10.1.10.53</td>\n",
              "      <td>53</td>\n",
              "      <td>53</td>\n",
              "    </tr>\n",
              "    <tr>\n",
              "      <th>158</th>\n",
              "      <td>10.1.10.53</td>\n",
              "      <td>84.54.22.33</td>\n",
              "      <td>53</td>\n",
              "      <td>53</td>\n",
              "    </tr>\n",
              "    <tr>\n",
              "      <th>159</th>\n",
              "      <td>84.54.22.33</td>\n",
              "      <td>10.1.10.53</td>\n",
              "      <td>53</td>\n",
              "      <td>53</td>\n",
              "    </tr>\n",
              "    <tr>\n",
              "      <th>160</th>\n",
              "      <td>10.1.10.53</td>\n",
              "      <td>84.54.22.33</td>\n",
              "      <td>53</td>\n",
              "      <td>53</td>\n",
              "    </tr>\n",
              "    <tr>\n",
              "      <th>161</th>\n",
              "      <td>84.54.22.33</td>\n",
              "      <td>10.1.10.53</td>\n",
              "      <td>53</td>\n",
              "      <td>53</td>\n",
              "    </tr>\n",
              "  </tbody>\n",
              "</table>\n",
              "<p>162 rows × 4 columns</p>\n",
              "</div>\n",
              "      <button class=\"colab-df-convert\" onclick=\"convertToInteractive('df-f8cf346a-f697-4af4-a8d0-1a6d7e8dd474')\"\n",
              "              title=\"Convert this dataframe to an interactive table.\"\n",
              "              style=\"display:none;\">\n",
              "        \n",
              "  <svg xmlns=\"http://www.w3.org/2000/svg\" height=\"24px\"viewBox=\"0 0 24 24\"\n",
              "       width=\"24px\">\n",
              "    <path d=\"M0 0h24v24H0V0z\" fill=\"none\"/>\n",
              "    <path d=\"M18.56 5.44l.94 2.06.94-2.06 2.06-.94-2.06-.94-.94-2.06-.94 2.06-2.06.94zm-11 1L8.5 8.5l.94-2.06 2.06-.94-2.06-.94L8.5 2.5l-.94 2.06-2.06.94zm10 10l.94 2.06.94-2.06 2.06-.94-2.06-.94-.94-2.06-.94 2.06-2.06.94z\"/><path d=\"M17.41 7.96l-1.37-1.37c-.4-.4-.92-.59-1.43-.59-.52 0-1.04.2-1.43.59L10.3 9.45l-7.72 7.72c-.78.78-.78 2.05 0 2.83L4 21.41c.39.39.9.59 1.41.59.51 0 1.02-.2 1.41-.59l7.78-7.78 2.81-2.81c.8-.78.8-2.07 0-2.86zM5.41 20L4 18.59l7.72-7.72 1.47 1.35L5.41 20z\"/>\n",
              "  </svg>\n",
              "      </button>\n",
              "      \n",
              "  <style>\n",
              "    .colab-df-container {\n",
              "      display:flex;\n",
              "      flex-wrap:wrap;\n",
              "      gap: 12px;\n",
              "    }\n",
              "\n",
              "    .colab-df-convert {\n",
              "      background-color: #E8F0FE;\n",
              "      border: none;\n",
              "      border-radius: 50%;\n",
              "      cursor: pointer;\n",
              "      display: none;\n",
              "      fill: #1967D2;\n",
              "      height: 32px;\n",
              "      padding: 0 0 0 0;\n",
              "      width: 32px;\n",
              "    }\n",
              "\n",
              "    .colab-df-convert:hover {\n",
              "      background-color: #E2EBFA;\n",
              "      box-shadow: 0px 1px 2px rgba(60, 64, 67, 0.3), 0px 1px 3px 1px rgba(60, 64, 67, 0.15);\n",
              "      fill: #174EA6;\n",
              "    }\n",
              "\n",
              "    [theme=dark] .colab-df-convert {\n",
              "      background-color: #3B4455;\n",
              "      fill: #D2E3FC;\n",
              "    }\n",
              "\n",
              "    [theme=dark] .colab-df-convert:hover {\n",
              "      background-color: #434B5C;\n",
              "      box-shadow: 0px 1px 3px 1px rgba(0, 0, 0, 0.15);\n",
              "      filter: drop-shadow(0px 1px 2px rgba(0, 0, 0, 0.3));\n",
              "      fill: #FFFFFF;\n",
              "    }\n",
              "  </style>\n",
              "\n",
              "      <script>\n",
              "        const buttonEl =\n",
              "          document.querySelector('#df-f8cf346a-f697-4af4-a8d0-1a6d7e8dd474 button.colab-df-convert');\n",
              "        buttonEl.style.display =\n",
              "          google.colab.kernel.accessAllowed ? 'block' : 'none';\n",
              "\n",
              "        async function convertToInteractive(key) {\n",
              "          const element = document.querySelector('#df-f8cf346a-f697-4af4-a8d0-1a6d7e8dd474');\n",
              "          const dataTable =\n",
              "            await google.colab.kernel.invokeFunction('convertToInteractive',\n",
              "                                                     [key], {});\n",
              "          if (!dataTable) return;\n",
              "\n",
              "          const docLinkHtml = 'Like what you see? Visit the ' +\n",
              "            '<a target=\"_blank\" href=https://colab.research.google.com/notebooks/data_table.ipynb>data table notebook</a>'\n",
              "            + ' to learn more about interactive tables.';\n",
              "          element.innerHTML = '';\n",
              "          dataTable['output_type'] = 'display_data';\n",
              "          await google.colab.output.renderOutput(dataTable, element);\n",
              "          const docLink = document.createElement('div');\n",
              "          docLink.innerHTML = docLinkHtml;\n",
              "          element.appendChild(docLink);\n",
              "        }\n",
              "      </script>\n",
              "    </div>\n",
              "  </div>\n",
              "  "
            ]
          },
          "metadata": {},
          "execution_count": 29
        }
      ]
    },
    {
      "cell_type": "markdown",
      "source": [
        "**5. Estadísticas**"
      ],
      "metadata": {
        "id": "eFIyKgo8USH6"
      }
    },
    {
      "cell_type": "markdown",
      "source": [
        "> **a. Muestre cual es la IP origen que más aparece**"
      ],
      "metadata": {
        "id": "oybfpydXUWGS"
      }
    },
    {
      "cell_type": "code",
      "source": [
        "df['src'].describe()"
      ],
      "metadata": {
        "colab": {
          "base_uri": "https://localhost:8080/"
        },
        "id": "cB7Fd2tbXvJw",
        "outputId": "232d984a-4364-4335-9c89-0b307905f4fe"
      },
      "execution_count": null,
      "outputs": [
        {
          "output_type": "execute_result",
          "data": {
            "text/plain": [
              "count            162\n",
              "unique             6\n",
              "top       172.28.0.2\n",
              "freq              44\n",
              "Name: src, dtype: object"
            ]
          },
          "metadata": {},
          "execution_count": 51
        }
      ]
    },
    {
      "cell_type": "code",
      "source": [
        "frqnt_src_address = df['src'].mode()\n",
        "frqnt_src_address"
      ],
      "metadata": {
        "colab": {
          "base_uri": "https://localhost:8080/"
        },
        "id": "oSWk1mDuSM-x",
        "outputId": "41afb29b-76dc-4db9-d06f-82ff493a6de0"
      },
      "execution_count": null,
      "outputs": [
        {
          "output_type": "execute_result",
          "data": {
            "text/plain": [
              "0    172.28.0.2\n",
              "dtype: object"
            ]
          },
          "metadata": {},
          "execution_count": 38
        }
      ]
    },
    {
      "cell_type": "markdown",
      "source": [
        "> **b. Muestre cual es la IP origen que más aparece**"
      ],
      "metadata": {
        "id": "iwMnUS9FUskI"
      }
    },
    {
      "cell_type": "code",
      "source": [
        "df['dst'].describe()"
      ],
      "metadata": {
        "colab": {
          "base_uri": "https://localhost:8080/"
        },
        "id": "h_mCAZLBX0Ei",
        "outputId": "229cd3af-2b2b-429a-e134-825f38e69e56"
      },
      "execution_count": null,
      "outputs": [
        {
          "output_type": "execute_result",
          "data": {
            "text/plain": [
              "count            162\n",
              "unique             6\n",
              "top       172.28.0.2\n",
              "freq              56\n",
              "Name: dst, dtype: object"
            ]
          },
          "metadata": {},
          "execution_count": 52
        }
      ]
    },
    {
      "cell_type": "code",
      "source": [
        "frqnt_dst_address = df['dst'].mode()\n",
        "frqnt_dst_address"
      ],
      "metadata": {
        "colab": {
          "base_uri": "https://localhost:8080/"
        },
        "id": "rcD2ZwbJSqVj",
        "outputId": "e2cd7d64-dde0-4c81-fc28-4afe88e05d67"
      },
      "execution_count": null,
      "outputs": [
        {
          "output_type": "execute_result",
          "data": {
            "text/plain": [
              "0    172.28.0.2\n",
              "dtype: object"
            ]
          },
          "metadata": {},
          "execution_count": 39
        }
      ]
    },
    {
      "cell_type": "markdown",
      "source": [
        "> **c. ¿A qué IPs se comunica la IP del inciso a?**"
      ],
      "metadata": {
        "id": "1epxmwZ-UuTS"
      }
    },
    {
      "cell_type": "code",
      "source": [
        "df[df.src == df[\"src\"].mode()[0]]['dst'].describe()"
      ],
      "metadata": {
        "colab": {
          "base_uri": "https://localhost:8080/"
        },
        "id": "9kJ47_jhX5o-",
        "outputId": "655412d8-1e33-48d5-9190-d7c1ed87495d"
      },
      "execution_count": null,
      "outputs": [
        {
          "output_type": "execute_result",
          "data": {
            "text/plain": [
              "count             44\n",
              "unique             2\n",
              "top       172.28.0.1\n",
              "freq              30\n",
              "Name: dst, dtype: object"
            ]
          },
          "metadata": {},
          "execution_count": 53
        }
      ]
    },
    {
      "cell_type": "code",
      "source": [
        "df[df.src == df[\"src\"].mode()[0]]['dst'].unique()"
      ],
      "metadata": {
        "colab": {
          "base_uri": "https://localhost:8080/"
        },
        "id": "XPRId3IVTcVL",
        "outputId": "acf65f7e-4e81-4e33-c351-c28890cea3aa"
      },
      "execution_count": null,
      "outputs": [
        {
          "output_type": "execute_result",
          "data": {
            "text/plain": [
              "array(['172.28.0.1', '172.28.0.3'], dtype=object)"
            ]
          },
          "metadata": {},
          "execution_count": 45
        }
      ]
    },
    {
      "cell_type": "markdown",
      "source": [
        "> **d. A qué puertos destino se comunica la IP del inciso a?** "
      ],
      "metadata": {
        "id": "VJIXY4B4V0ir"
      }
    },
    {
      "cell_type": "code",
      "source": [
        "df[df.src == df[\"src\"].mode()[0]]['dport'].describe()"
      ],
      "metadata": {
        "colab": {
          "base_uri": "https://localhost:8080/"
        },
        "id": "8NcV_6CEX9PV",
        "outputId": "80e2173e-5aac-4ada-99fa-9fd6015054fc"
      },
      "execution_count": null,
      "outputs": [
        {
          "output_type": "execute_result",
          "data": {
            "text/plain": [
              "count        44\n",
              "unique        7\n",
              "top       56274\n",
              "freq         14\n",
              "Name: dport, dtype: int64"
            ]
          },
          "metadata": {},
          "execution_count": 54
        }
      ]
    },
    {
      "cell_type": "code",
      "source": [
        "df[df.src == df[\"src\"].mode()[0]]['dport'].unique()"
      ],
      "metadata": {
        "colab": {
          "base_uri": "https://localhost:8080/"
        },
        "id": "EQc659aqV0AW",
        "outputId": "54f42f8d-7b42-4f6d-a1bb-dc1072d40619"
      },
      "execution_count": null,
      "outputs": [
        {
          "output_type": "execute_result",
          "data": {
            "text/plain": [
              "array([56274, 54862, 6000, 56392, 54806, 56432, 56440], dtype=object)"
            ]
          },
          "metadata": {},
          "execution_count": 47
        }
      ]
    },
    {
      "cell_type": "markdown",
      "source": [
        "> **e. ¿A qué puertos origen se comunica la IP del inciso a?** "
      ],
      "metadata": {
        "id": "9gZyKxb2V9va"
      }
    },
    {
      "cell_type": "code",
      "source": [
        "df[df.src == df[\"src\"].mode()[0]]['sport'].describe()"
      ],
      "metadata": {
        "colab": {
          "base_uri": "https://localhost:8080/"
        },
        "id": "ss_b8SUkYAdT",
        "outputId": "c7b91c91-1b01-4266-98e5-62d8f4396ab4"
      },
      "execution_count": null,
      "outputs": [
        {
          "output_type": "execute_result",
          "data": {
            "text/plain": [
              "count       44\n",
              "unique       5\n",
              "top       8080\n",
              "freq        30\n",
              "Name: sport, dtype: int64"
            ]
          },
          "metadata": {},
          "execution_count": 55
        }
      ]
    },
    {
      "cell_type": "code",
      "source": [
        "df[df.src == df[\"src\"].mode()[0]]['sport'].unique()"
      ],
      "metadata": {
        "colab": {
          "base_uri": "https://localhost:8080/"
        },
        "id": "NZnVxBsUXF_6",
        "outputId": "d4c74b5d-474c-4bc9-fa92-235ce3d884ed"
      },
      "execution_count": null,
      "outputs": [
        {
          "output_type": "execute_result",
          "data": {
            "text/plain": [
              "array([8080, 9000, 51142, 55240, 55246], dtype=object)"
            ]
          },
          "metadata": {},
          "execution_count": 48
        }
      ]
    },
    {
      "cell_type": "markdown",
      "source": [
        "> **f. ¿Para que se utiliza el puerto que más aparece en el inciso  d y e?**"
      ],
      "metadata": {
        "id": "d5a5g8oJXPKb"
      }
    },
    {
      "cell_type": "code",
      "source": [
        "frqnt_sport = df[df.src == df[\"src\"].mode()[0]]['sport'].mode()[0]\n",
        "frqnt_dport = df[df.src == df[\"src\"].mode()[0]]['dport'].mode()[0]\n",
        "\n",
        "print(frqnt_sport, frqnt_dport)"
      ],
      "metadata": {
        "colab": {
          "base_uri": "https://localhost:8080/"
        },
        "id": "Uv__Qjo4XRzo",
        "outputId": "99cd51cf-8f04-4c85-aecb-6fc369f65e5a"
      },
      "execution_count": null,
      "outputs": [
        {
          "output_type": "stream",
          "name": "stdout",
          "text": [
            "8080 56274\n"
          ]
        }
      ]
    },
    {
      "cell_type": "code",
      "source": [
        "##  PENDIENTE VER PARA QUÉ SIRVEN ESOS PUERTOS"
      ],
      "metadata": {
        "id": "3BZzsLWKbGRr"
      },
      "execution_count": null,
      "outputs": []
    },
    {
      "cell_type": "markdown",
      "source": [
        "**6. Gráficas**"
      ],
      "metadata": {
        "id": "aYp2xis0bF7a"
      }
    },
    {
      "cell_type": "markdown",
      "source": [
        "> **a. Muestre una gráfica 2D, en el eje Y las IPs origen, y en el eje X la suma de los payloads \n",
        "enviados de dichas direcciones.**"
      ],
      "metadata": {
        "id": "sfjDRW5YbPEx"
      }
    },
    {
      "cell_type": "code",
      "source": [
        "src_count = df['src'].value_counts()\n",
        "src_count = src_count.to_frame().reset_index()\n",
        "src_count"
      ],
      "metadata": {
        "colab": {
          "base_uri": "https://localhost:8080/",
          "height": 235
        },
        "id": "h7gkMb80bURy",
        "outputId": "d86b5979-e311-4484-c10f-efd344eeba05"
      },
      "execution_count": null,
      "outputs": [
        {
          "output_type": "execute_result",
          "data": {
            "text/plain": [
              "         index  src\n",
              "0   172.28.0.2   44\n",
              "1   172.28.0.1   39\n",
              "2   10.1.10.53   31\n",
              "3  84.54.22.33   29\n",
              "4   172.28.0.3   17\n",
              "5  75.75.75.75    2"
            ],
            "text/html": [
              "\n",
              "  <div id=\"df-fb8cba02-26fb-43de-862b-61dc46c831d5\">\n",
              "    <div class=\"colab-df-container\">\n",
              "      <div>\n",
              "<style scoped>\n",
              "    .dataframe tbody tr th:only-of-type {\n",
              "        vertical-align: middle;\n",
              "    }\n",
              "\n",
              "    .dataframe tbody tr th {\n",
              "        vertical-align: top;\n",
              "    }\n",
              "\n",
              "    .dataframe thead th {\n",
              "        text-align: right;\n",
              "    }\n",
              "</style>\n",
              "<table border=\"1\" class=\"dataframe\">\n",
              "  <thead>\n",
              "    <tr style=\"text-align: right;\">\n",
              "      <th></th>\n",
              "      <th>index</th>\n",
              "      <th>src</th>\n",
              "    </tr>\n",
              "  </thead>\n",
              "  <tbody>\n",
              "    <tr>\n",
              "      <th>0</th>\n",
              "      <td>172.28.0.2</td>\n",
              "      <td>44</td>\n",
              "    </tr>\n",
              "    <tr>\n",
              "      <th>1</th>\n",
              "      <td>172.28.0.1</td>\n",
              "      <td>39</td>\n",
              "    </tr>\n",
              "    <tr>\n",
              "      <th>2</th>\n",
              "      <td>10.1.10.53</td>\n",
              "      <td>31</td>\n",
              "    </tr>\n",
              "    <tr>\n",
              "      <th>3</th>\n",
              "      <td>84.54.22.33</td>\n",
              "      <td>29</td>\n",
              "    </tr>\n",
              "    <tr>\n",
              "      <th>4</th>\n",
              "      <td>172.28.0.3</td>\n",
              "      <td>17</td>\n",
              "    </tr>\n",
              "    <tr>\n",
              "      <th>5</th>\n",
              "      <td>75.75.75.75</td>\n",
              "      <td>2</td>\n",
              "    </tr>\n",
              "  </tbody>\n",
              "</table>\n",
              "</div>\n",
              "      <button class=\"colab-df-convert\" onclick=\"convertToInteractive('df-fb8cba02-26fb-43de-862b-61dc46c831d5')\"\n",
              "              title=\"Convert this dataframe to an interactive table.\"\n",
              "              style=\"display:none;\">\n",
              "        \n",
              "  <svg xmlns=\"http://www.w3.org/2000/svg\" height=\"24px\"viewBox=\"0 0 24 24\"\n",
              "       width=\"24px\">\n",
              "    <path d=\"M0 0h24v24H0V0z\" fill=\"none\"/>\n",
              "    <path d=\"M18.56 5.44l.94 2.06.94-2.06 2.06-.94-2.06-.94-.94-2.06-.94 2.06-2.06.94zm-11 1L8.5 8.5l.94-2.06 2.06-.94-2.06-.94L8.5 2.5l-.94 2.06-2.06.94zm10 10l.94 2.06.94-2.06 2.06-.94-2.06-.94-.94-2.06-.94 2.06-2.06.94z\"/><path d=\"M17.41 7.96l-1.37-1.37c-.4-.4-.92-.59-1.43-.59-.52 0-1.04.2-1.43.59L10.3 9.45l-7.72 7.72c-.78.78-.78 2.05 0 2.83L4 21.41c.39.39.9.59 1.41.59.51 0 1.02-.2 1.41-.59l7.78-7.78 2.81-2.81c.8-.78.8-2.07 0-2.86zM5.41 20L4 18.59l7.72-7.72 1.47 1.35L5.41 20z\"/>\n",
              "  </svg>\n",
              "      </button>\n",
              "      \n",
              "  <style>\n",
              "    .colab-df-container {\n",
              "      display:flex;\n",
              "      flex-wrap:wrap;\n",
              "      gap: 12px;\n",
              "    }\n",
              "\n",
              "    .colab-df-convert {\n",
              "      background-color: #E8F0FE;\n",
              "      border: none;\n",
              "      border-radius: 50%;\n",
              "      cursor: pointer;\n",
              "      display: none;\n",
              "      fill: #1967D2;\n",
              "      height: 32px;\n",
              "      padding: 0 0 0 0;\n",
              "      width: 32px;\n",
              "    }\n",
              "\n",
              "    .colab-df-convert:hover {\n",
              "      background-color: #E2EBFA;\n",
              "      box-shadow: 0px 1px 2px rgba(60, 64, 67, 0.3), 0px 1px 3px 1px rgba(60, 64, 67, 0.15);\n",
              "      fill: #174EA6;\n",
              "    }\n",
              "\n",
              "    [theme=dark] .colab-df-convert {\n",
              "      background-color: #3B4455;\n",
              "      fill: #D2E3FC;\n",
              "    }\n",
              "\n",
              "    [theme=dark] .colab-df-convert:hover {\n",
              "      background-color: #434B5C;\n",
              "      box-shadow: 0px 1px 3px 1px rgba(0, 0, 0, 0.15);\n",
              "      filter: drop-shadow(0px 1px 2px rgba(0, 0, 0, 0.3));\n",
              "      fill: #FFFFFF;\n",
              "    }\n",
              "  </style>\n",
              "\n",
              "      <script>\n",
              "        const buttonEl =\n",
              "          document.querySelector('#df-fb8cba02-26fb-43de-862b-61dc46c831d5 button.colab-df-convert');\n",
              "        buttonEl.style.display =\n",
              "          google.colab.kernel.accessAllowed ? 'block' : 'none';\n",
              "\n",
              "        async function convertToInteractive(key) {\n",
              "          const element = document.querySelector('#df-fb8cba02-26fb-43de-862b-61dc46c831d5');\n",
              "          const dataTable =\n",
              "            await google.colab.kernel.invokeFunction('convertToInteractive',\n",
              "                                                     [key], {});\n",
              "          if (!dataTable) return;\n",
              "\n",
              "          const docLinkHtml = 'Like what you see? Visit the ' +\n",
              "            '<a target=\"_blank\" href=https://colab.research.google.com/notebooks/data_table.ipynb>data table notebook</a>'\n",
              "            + ' to learn more about interactive tables.';\n",
              "          element.innerHTML = '';\n",
              "          dataTable['output_type'] = 'display_data';\n",
              "          await google.colab.output.renderOutput(dataTable, element);\n",
              "          const docLink = document.createElement('div');\n",
              "          docLink.innerHTML = docLinkHtml;\n",
              "          element.appendChild(docLink);\n",
              "        }\n",
              "      </script>\n",
              "    </div>\n",
              "  </div>\n",
              "  "
            ]
          },
          "metadata": {},
          "execution_count": 74
        }
      ]
    },
    {
      "cell_type": "code",
      "source": [
        "src_count.rename(\n",
        "    columns = {\n",
        "        \"index\" : \"ip\",\n",
        "        \"src\" : \"count\"\n",
        "    },\n",
        "    inplace = True\n",
        ")\n",
        "src_count"
      ],
      "metadata": {
        "colab": {
          "base_uri": "https://localhost:8080/",
          "height": 235
        },
        "id": "lVvtADxedXTU",
        "outputId": "426b7fac-f5b0-4422-a76f-f1c366718b5c"
      },
      "execution_count": null,
      "outputs": [
        {
          "output_type": "execute_result",
          "data": {
            "text/plain": [
              "            ip  count\n",
              "0   172.28.0.2     44\n",
              "1   172.28.0.1     39\n",
              "2   10.1.10.53     31\n",
              "3  84.54.22.33     29\n",
              "4   172.28.0.3     17\n",
              "5  75.75.75.75      2"
            ],
            "text/html": [
              "\n",
              "  <div id=\"df-752cebb6-2608-4624-a1bb-596c65d2c9f1\">\n",
              "    <div class=\"colab-df-container\">\n",
              "      <div>\n",
              "<style scoped>\n",
              "    .dataframe tbody tr th:only-of-type {\n",
              "        vertical-align: middle;\n",
              "    }\n",
              "\n",
              "    .dataframe tbody tr th {\n",
              "        vertical-align: top;\n",
              "    }\n",
              "\n",
              "    .dataframe thead th {\n",
              "        text-align: right;\n",
              "    }\n",
              "</style>\n",
              "<table border=\"1\" class=\"dataframe\">\n",
              "  <thead>\n",
              "    <tr style=\"text-align: right;\">\n",
              "      <th></th>\n",
              "      <th>ip</th>\n",
              "      <th>count</th>\n",
              "    </tr>\n",
              "  </thead>\n",
              "  <tbody>\n",
              "    <tr>\n",
              "      <th>0</th>\n",
              "      <td>172.28.0.2</td>\n",
              "      <td>44</td>\n",
              "    </tr>\n",
              "    <tr>\n",
              "      <th>1</th>\n",
              "      <td>172.28.0.1</td>\n",
              "      <td>39</td>\n",
              "    </tr>\n",
              "    <tr>\n",
              "      <th>2</th>\n",
              "      <td>10.1.10.53</td>\n",
              "      <td>31</td>\n",
              "    </tr>\n",
              "    <tr>\n",
              "      <th>3</th>\n",
              "      <td>84.54.22.33</td>\n",
              "      <td>29</td>\n",
              "    </tr>\n",
              "    <tr>\n",
              "      <th>4</th>\n",
              "      <td>172.28.0.3</td>\n",
              "      <td>17</td>\n",
              "    </tr>\n",
              "    <tr>\n",
              "      <th>5</th>\n",
              "      <td>75.75.75.75</td>\n",
              "      <td>2</td>\n",
              "    </tr>\n",
              "  </tbody>\n",
              "</table>\n",
              "</div>\n",
              "      <button class=\"colab-df-convert\" onclick=\"convertToInteractive('df-752cebb6-2608-4624-a1bb-596c65d2c9f1')\"\n",
              "              title=\"Convert this dataframe to an interactive table.\"\n",
              "              style=\"display:none;\">\n",
              "        \n",
              "  <svg xmlns=\"http://www.w3.org/2000/svg\" height=\"24px\"viewBox=\"0 0 24 24\"\n",
              "       width=\"24px\">\n",
              "    <path d=\"M0 0h24v24H0V0z\" fill=\"none\"/>\n",
              "    <path d=\"M18.56 5.44l.94 2.06.94-2.06 2.06-.94-2.06-.94-.94-2.06-.94 2.06-2.06.94zm-11 1L8.5 8.5l.94-2.06 2.06-.94-2.06-.94L8.5 2.5l-.94 2.06-2.06.94zm10 10l.94 2.06.94-2.06 2.06-.94-2.06-.94-.94-2.06-.94 2.06-2.06.94z\"/><path d=\"M17.41 7.96l-1.37-1.37c-.4-.4-.92-.59-1.43-.59-.52 0-1.04.2-1.43.59L10.3 9.45l-7.72 7.72c-.78.78-.78 2.05 0 2.83L4 21.41c.39.39.9.59 1.41.59.51 0 1.02-.2 1.41-.59l7.78-7.78 2.81-2.81c.8-.78.8-2.07 0-2.86zM5.41 20L4 18.59l7.72-7.72 1.47 1.35L5.41 20z\"/>\n",
              "  </svg>\n",
              "      </button>\n",
              "      \n",
              "  <style>\n",
              "    .colab-df-container {\n",
              "      display:flex;\n",
              "      flex-wrap:wrap;\n",
              "      gap: 12px;\n",
              "    }\n",
              "\n",
              "    .colab-df-convert {\n",
              "      background-color: #E8F0FE;\n",
              "      border: none;\n",
              "      border-radius: 50%;\n",
              "      cursor: pointer;\n",
              "      display: none;\n",
              "      fill: #1967D2;\n",
              "      height: 32px;\n",
              "      padding: 0 0 0 0;\n",
              "      width: 32px;\n",
              "    }\n",
              "\n",
              "    .colab-df-convert:hover {\n",
              "      background-color: #E2EBFA;\n",
              "      box-shadow: 0px 1px 2px rgba(60, 64, 67, 0.3), 0px 1px 3px 1px rgba(60, 64, 67, 0.15);\n",
              "      fill: #174EA6;\n",
              "    }\n",
              "\n",
              "    [theme=dark] .colab-df-convert {\n",
              "      background-color: #3B4455;\n",
              "      fill: #D2E3FC;\n",
              "    }\n",
              "\n",
              "    [theme=dark] .colab-df-convert:hover {\n",
              "      background-color: #434B5C;\n",
              "      box-shadow: 0px 1px 3px 1px rgba(0, 0, 0, 0.15);\n",
              "      filter: drop-shadow(0px 1px 2px rgba(0, 0, 0, 0.3));\n",
              "      fill: #FFFFFF;\n",
              "    }\n",
              "  </style>\n",
              "\n",
              "      <script>\n",
              "        const buttonEl =\n",
              "          document.querySelector('#df-752cebb6-2608-4624-a1bb-596c65d2c9f1 button.colab-df-convert');\n",
              "        buttonEl.style.display =\n",
              "          google.colab.kernel.accessAllowed ? 'block' : 'none';\n",
              "\n",
              "        async function convertToInteractive(key) {\n",
              "          const element = document.querySelector('#df-752cebb6-2608-4624-a1bb-596c65d2c9f1');\n",
              "          const dataTable =\n",
              "            await google.colab.kernel.invokeFunction('convertToInteractive',\n",
              "                                                     [key], {});\n",
              "          if (!dataTable) return;\n",
              "\n",
              "          const docLinkHtml = 'Like what you see? Visit the ' +\n",
              "            '<a target=\"_blank\" href=https://colab.research.google.com/notebooks/data_table.ipynb>data table notebook</a>'\n",
              "            + ' to learn more about interactive tables.';\n",
              "          element.innerHTML = '';\n",
              "          dataTable['output_type'] = 'display_data';\n",
              "          await google.colab.output.renderOutput(dataTable, element);\n",
              "          const docLink = document.createElement('div');\n",
              "          docLink.innerHTML = docLinkHtml;\n",
              "          element.appendChild(docLink);\n",
              "        }\n",
              "      </script>\n",
              "    </div>\n",
              "  </div>\n",
              "  "
            ]
          },
          "metadata": {},
          "execution_count": 75
        }
      ]
    },
    {
      "cell_type": "code",
      "source": [
        "ax = sns.barplot(\n",
        "  x = \"count\",\n",
        "  y = \"ip\", \n",
        "  data = src_count\n",
        ")"
      ],
      "metadata": {
        "colab": {
          "base_uri": "https://localhost:8080/",
          "height": 285
        },
        "id": "mPc7P3pQbebL",
        "outputId": "a7c2a89d-7746-4c47-c085-33aaedf8baff"
      },
      "execution_count": null,
      "outputs": [
        {
          "output_type": "display_data",
          "data": {
            "text/plain": [
              "<Figure size 432x288 with 1 Axes>"
            ],
            "image/png": "[encoded data removed]"
          },
          "metadata": {
            "needs_background": "light"
          }
        }
      ]
    },
    {
      "cell_type": "markdown",
      "source": [
        "> **b. Muestre una gráfica 2D, en el eje Y las IPs destino, y en el eje X la suma de los payloads \n",
        "recibidos en dichas direcciones.**"
      ],
      "metadata": {
        "id": "KFcNFyo6d7_o"
      }
    },
    {
      "cell_type": "code",
      "source": [
        "dst_count = df['dst'].value_counts()\n",
        "dst_count = dst_count.to_frame().reset_index()\n",
        "dst_count"
      ],
      "metadata": {
        "colab": {
          "base_uri": "https://localhost:8080/",
          "height": 235
        },
        "id": "bQ-B0A7Cd_qv",
        "outputId": "ba79b13a-c906-42b1-a6a9-07354a003adb"
      },
      "execution_count": null,
      "outputs": [
        {
          "output_type": "execute_result",
          "data": {
            "text/plain": [
              "         index  dst\n",
              "0   172.28.0.2   56\n",
              "1   10.1.10.53   31\n",
              "2   172.28.0.1   30\n",
              "3  84.54.22.33   29\n",
              "4   172.28.0.3   14\n",
              "5  75.75.75.75    2"
            ],
            "text/html": [
              "\n",
              "  <div id=\"df-d6bb3cfb-96e8-4b7f-8f5f-f4cd62901aad\">\n",
              "    <div class=\"colab-df-container\">\n",
              "      <div>\n",
              "<style scoped>\n",
              "    .dataframe tbody tr th:only-of-type {\n",
              "        vertical-align: middle;\n",
              "    }\n",
              "\n",
              "    .dataframe tbody tr th {\n",
              "        vertical-align: top;\n",
              "    }\n",
              "\n",
              "    .dataframe thead th {\n",
              "        text-align: right;\n",
              "    }\n",
              "</style>\n",
              "<table border=\"1\" class=\"dataframe\">\n",
              "  <thead>\n",
              "    <tr style=\"text-align: right;\">\n",
              "      <th></th>\n",
              "      <th>index</th>\n",
              "      <th>dst</th>\n",
              "    </tr>\n",
              "  </thead>\n",
              "  <tbody>\n",
              "    <tr>\n",
              "      <th>0</th>\n",
              "      <td>172.28.0.2</td>\n",
              "      <td>56</td>\n",
              "    </tr>\n",
              "    <tr>\n",
              "      <th>1</th>\n",
              "      <td>10.1.10.53</td>\n",
              "      <td>31</td>\n",
              "    </tr>\n",
              "    <tr>\n",
              "      <th>2</th>\n",
              "      <td>172.28.0.1</td>\n",
              "      <td>30</td>\n",
              "    </tr>\n",
              "    <tr>\n",
              "      <th>3</th>\n",
              "      <td>84.54.22.33</td>\n",
              "      <td>29</td>\n",
              "    </tr>\n",
              "    <tr>\n",
              "      <th>4</th>\n",
              "      <td>172.28.0.3</td>\n",
              "      <td>14</td>\n",
              "    </tr>\n",
              "    <tr>\n",
              "      <th>5</th>\n",
              "      <td>75.75.75.75</td>\n",
              "      <td>2</td>\n",
              "    </tr>\n",
              "  </tbody>\n",
              "</table>\n",
              "</div>\n",
              "      <button class=\"colab-df-convert\" onclick=\"convertToInteractive('df-d6bb3cfb-96e8-4b7f-8f5f-f4cd62901aad')\"\n",
              "              title=\"Convert this dataframe to an interactive table.\"\n",
              "              style=\"display:none;\">\n",
              "        \n",
              "  <svg xmlns=\"http://www.w3.org/2000/svg\" height=\"24px\"viewBox=\"0 0 24 24\"\n",
              "       width=\"24px\">\n",
              "    <path d=\"M0 0h24v24H0V0z\" fill=\"none\"/>\n",
              "    <path d=\"M18.56 5.44l.94 2.06.94-2.06 2.06-.94-2.06-.94-.94-2.06-.94 2.06-2.06.94zm-11 1L8.5 8.5l.94-2.06 2.06-.94-2.06-.94L8.5 2.5l-.94 2.06-2.06.94zm10 10l.94 2.06.94-2.06 2.06-.94-2.06-.94-.94-2.06-.94 2.06-2.06.94z\"/><path d=\"M17.41 7.96l-1.37-1.37c-.4-.4-.92-.59-1.43-.59-.52 0-1.04.2-1.43.59L10.3 9.45l-7.72 7.72c-.78.78-.78 2.05 0 2.83L4 21.41c.39.39.9.59 1.41.59.51 0 1.02-.2 1.41-.59l7.78-7.78 2.81-2.81c.8-.78.8-2.07 0-2.86zM5.41 20L4 18.59l7.72-7.72 1.47 1.35L5.41 20z\"/>\n",
              "  </svg>\n",
              "      </button>\n",
              "      \n",
              "  <style>\n",
              "    .colab-df-container {\n",
              "      display:flex;\n",
              "      flex-wrap:wrap;\n",
              "      gap: 12px;\n",
              "    }\n",
              "\n",
              "    .colab-df-convert {\n",
              "      background-color: #E8F0FE;\n",
              "      border: none;\n",
              "      border-radius: 50%;\n",
              "      cursor: pointer;\n",
              "      display: none;\n",
              "      fill: #1967D2;\n",
              "      height: 32px;\n",
              "      padding: 0 0 0 0;\n",
              "      width: 32px;\n",
              "    }\n",
              "\n",
              "    .colab-df-convert:hover {\n",
              "      background-color: #E2EBFA;\n",
              "      box-shadow: 0px 1px 2px rgba(60, 64, 67, 0.3), 0px 1px 3px 1px rgba(60, 64, 67, 0.15);\n",
              "      fill: #174EA6;\n",
              "    }\n",
              "\n",
              "    [theme=dark] .colab-df-convert {\n",
              "      background-color: #3B4455;\n",
              "      fill: #D2E3FC;\n",
              "    }\n",
              "\n",
              "    [theme=dark] .colab-df-convert:hover {\n",
              "      background-color: #434B5C;\n",
              "      box-shadow: 0px 1px 3px 1px rgba(0, 0, 0, 0.15);\n",
              "      filter: drop-shadow(0px 1px 2px rgba(0, 0, 0, 0.3));\n",
              "      fill: #FFFFFF;\n",
              "    }\n",
              "  </style>\n",
              "\n",
              "      <script>\n",
              "        const buttonEl =\n",
              "          document.querySelector('#df-d6bb3cfb-96e8-4b7f-8f5f-f4cd62901aad button.colab-df-convert');\n",
              "        buttonEl.style.display =\n",
              "          google.colab.kernel.accessAllowed ? 'block' : 'none';\n",
              "\n",
              "        async function convertToInteractive(key) {\n",
              "          const element = document.querySelector('#df-d6bb3cfb-96e8-4b7f-8f5f-f4cd62901aad');\n",
              "          const dataTable =\n",
              "            await google.colab.kernel.invokeFunction('convertToInteractive',\n",
              "                                                     [key], {});\n",
              "          if (!dataTable) return;\n",
              "\n",
              "          const docLinkHtml = 'Like what you see? Visit the ' +\n",
              "            '<a target=\"_blank\" href=https://colab.research.google.com/notebooks/data_table.ipynb>data table notebook</a>'\n",
              "            + ' to learn more about interactive tables.';\n",
              "          element.innerHTML = '';\n",
              "          dataTable['output_type'] = 'display_data';\n",
              "          await google.colab.output.renderOutput(dataTable, element);\n",
              "          const docLink = document.createElement('div');\n",
              "          docLink.innerHTML = docLinkHtml;\n",
              "          element.appendChild(docLink);\n",
              "        }\n",
              "      </script>\n",
              "    </div>\n",
              "  </div>\n",
              "  "
            ]
          },
          "metadata": {},
          "execution_count": 78
        }
      ]
    },
    {
      "cell_type": "code",
      "source": [
        "dst_count.rename(\n",
        "    columns = {\n",
        "        \"index\" : \"ip\",\n",
        "        \"dst\" : \"count\"\n",
        "    },\n",
        "    inplace = True\n",
        ")\n",
        "dst_count"
      ],
      "metadata": {
        "colab": {
          "base_uri": "https://localhost:8080/",
          "height": 235
        },
        "id": "O7DYybg3eOFq",
        "outputId": "284452db-b0fb-4f23-848c-59ca6f2080c5"
      },
      "execution_count": null,
      "outputs": [
        {
          "output_type": "execute_result",
          "data": {
            "text/plain": [
              "            ip  count\n",
              "0   172.28.0.2     56\n",
              "1   10.1.10.53     31\n",
              "2   172.28.0.1     30\n",
              "3  84.54.22.33     29\n",
              "4   172.28.0.3     14\n",
              "5  75.75.75.75      2"
            ],
            "text/html": [
              "\n",
              "  <div id=\"df-8c792009-5300-40f1-96df-83b439739f51\">\n",
              "    <div class=\"colab-df-container\">\n",
              "      <div>\n",
              "<style scoped>\n",
              "    .dataframe tbody tr th:only-of-type {\n",
              "        vertical-align: middle;\n",
              "    }\n",
              "\n",
              "    .dataframe tbody tr th {\n",
              "        vertical-align: top;\n",
              "    }\n",
              "\n",
              "    .dataframe thead th {\n",
              "        text-align: right;\n",
              "    }\n",
              "</style>\n",
              "<table border=\"1\" class=\"dataframe\">\n",
              "  <thead>\n",
              "    <tr style=\"text-align: right;\">\n",
              "      <th></th>\n",
              "      <th>ip</th>\n",
              "      <th>count</th>\n",
              "    </tr>\n",
              "  </thead>\n",
              "  <tbody>\n",
              "    <tr>\n",
              "      <th>0</th>\n",
              "      <td>172.28.0.2</td>\n",
              "      <td>56</td>\n",
              "    </tr>\n",
              "    <tr>\n",
              "      <th>1</th>\n",
              "      <td>10.1.10.53</td>\n",
              "      <td>31</td>\n",
              "    </tr>\n",
              "    <tr>\n",
              "      <th>2</th>\n",
              "      <td>172.28.0.1</td>\n",
              "      <td>30</td>\n",
              "    </tr>\n",
              "    <tr>\n",
              "      <th>3</th>\n",
              "      <td>84.54.22.33</td>\n",
              "      <td>29</td>\n",
              "    </tr>\n",
              "    <tr>\n",
              "      <th>4</th>\n",
              "      <td>172.28.0.3</td>\n",
              "      <td>14</td>\n",
              "    </tr>\n",
              "    <tr>\n",
              "      <th>5</th>\n",
              "      <td>75.75.75.75</td>\n",
              "      <td>2</td>\n",
              "    </tr>\n",
              "  </tbody>\n",
              "</table>\n",
              "</div>\n",
              "      <button class=\"colab-df-convert\" onclick=\"convertToInteractive('df-8c792009-5300-40f1-96df-83b439739f51')\"\n",
              "              title=\"Convert this dataframe to an interactive table.\"\n",
              "              style=\"display:none;\">\n",
              "        \n",
              "  <svg xmlns=\"http://www.w3.org/2000/svg\" height=\"24px\"viewBox=\"0 0 24 24\"\n",
              "       width=\"24px\">\n",
              "    <path d=\"M0 0h24v24H0V0z\" fill=\"none\"/>\n",
              "    <path d=\"M18.56 5.44l.94 2.06.94-2.06 2.06-.94-2.06-.94-.94-2.06-.94 2.06-2.06.94zm-11 1L8.5 8.5l.94-2.06 2.06-.94-2.06-.94L8.5 2.5l-.94 2.06-2.06.94zm10 10l.94 2.06.94-2.06 2.06-.94-2.06-.94-.94-2.06-.94 2.06-2.06.94z\"/><path d=\"M17.41 7.96l-1.37-1.37c-.4-.4-.92-.59-1.43-.59-.52 0-1.04.2-1.43.59L10.3 9.45l-7.72 7.72c-.78.78-.78 2.05 0 2.83L4 21.41c.39.39.9.59 1.41.59.51 0 1.02-.2 1.41-.59l7.78-7.78 2.81-2.81c.8-.78.8-2.07 0-2.86zM5.41 20L4 18.59l7.72-7.72 1.47 1.35L5.41 20z\"/>\n",
              "  </svg>\n",
              "      </button>\n",
              "      \n",
              "  <style>\n",
              "    .colab-df-container {\n",
              "      display:flex;\n",
              "      flex-wrap:wrap;\n",
              "      gap: 12px;\n",
              "    }\n",
              "\n",
              "    .colab-df-convert {\n",
              "      background-color: #E8F0FE;\n",
              "      border: none;\n",
              "      border-radius: 50%;\n",
              "      cursor: pointer;\n",
              "      display: none;\n",
              "      fill: #1967D2;\n",
              "      height: 32px;\n",
              "      padding: 0 0 0 0;\n",
              "      width: 32px;\n",
              "    }\n",
              "\n",
              "    .colab-df-convert:hover {\n",
              "      background-color: #E2EBFA;\n",
              "      box-shadow: 0px 1px 2px rgba(60, 64, 67, 0.3), 0px 1px 3px 1px rgba(60, 64, 67, 0.15);\n",
              "      fill: #174EA6;\n",
              "    }\n",
              "\n",
              "    [theme=dark] .colab-df-convert {\n",
              "      background-color: #3B4455;\n",
              "      fill: #D2E3FC;\n",
              "    }\n",
              "\n",
              "    [theme=dark] .colab-df-convert:hover {\n",
              "      background-color: #434B5C;\n",
              "      box-shadow: 0px 1px 3px 1px rgba(0, 0, 0, 0.15);\n",
              "      filter: drop-shadow(0px 1px 2px rgba(0, 0, 0, 0.3));\n",
              "      fill: #FFFFFF;\n",
              "    }\n",
              "  </style>\n",
              "\n",
              "      <script>\n",
              "        const buttonEl =\n",
              "          document.querySelector('#df-8c792009-5300-40f1-96df-83b439739f51 button.colab-df-convert');\n",
              "        buttonEl.style.display =\n",
              "          google.colab.kernel.accessAllowed ? 'block' : 'none';\n",
              "\n",
              "        async function convertToInteractive(key) {\n",
              "          const element = document.querySelector('#df-8c792009-5300-40f1-96df-83b439739f51');\n",
              "          const dataTable =\n",
              "            await google.colab.kernel.invokeFunction('convertToInteractive',\n",
              "                                                     [key], {});\n",
              "          if (!dataTable) return;\n",
              "\n",
              "          const docLinkHtml = 'Like what you see? Visit the ' +\n",
              "            '<a target=\"_blank\" href=https://colab.research.google.com/notebooks/data_table.ipynb>data table notebook</a>'\n",
              "            + ' to learn more about interactive tables.';\n",
              "          element.innerHTML = '';\n",
              "          dataTable['output_type'] = 'display_data';\n",
              "          await google.colab.output.renderOutput(dataTable, element);\n",
              "          const docLink = document.createElement('div');\n",
              "          docLink.innerHTML = docLinkHtml;\n",
              "          element.appendChild(docLink);\n",
              "        }\n",
              "      </script>\n",
              "    </div>\n",
              "  </div>\n",
              "  "
            ]
          },
          "metadata": {},
          "execution_count": 79
        }
      ]
    },
    {
      "cell_type": "code",
      "source": [
        "ax = sns.barplot(\n",
        "  x = \"count\",\n",
        "  y = \"ip\", \n",
        "  data = dst_count\n",
        ")"
      ],
      "metadata": {
        "colab": {
          "base_uri": "https://localhost:8080/",
          "height": 285
        },
        "id": "Injd81TaeTHt",
        "outputId": "9b195005-0069-47e3-f258-66413103995f"
      },
      "execution_count": null,
      "outputs": [
        {
          "output_type": "display_data",
          "data": {
            "text/plain": [
              "<Figure size 432x288 with 1 Axes>"
            ],
            "image/png": "[encoded data removed]"
          },
          "metadata": {
            "needs_background": "light"
          }
        }
      ]
    },
    {
      "cell_type": "markdown",
      "source": [
        "> **c. Muestre una gráfica 2D, en el eje Y los puertos origen, y en el eje X la suma de los \n",
        "payloads enviados de dichos puertos.**"
      ],
      "metadata": {
        "id": "tV261aoeebnC"
      }
    },
    {
      "cell_type": "code",
      "source": [
        "sport_count = df['sport'].value_counts()\n",
        "sport_count = sport_count.to_frame().reset_index()\n",
        "sport_count"
      ],
      "metadata": {
        "colab": {
          "base_uri": "https://localhost:8080/",
          "height": 514
        },
        "id": "nUqHVby-eges",
        "outputId": "4f8962d5-d620-455b-9dfc-1a37d82711b8"
      },
      "execution_count": null,
      "outputs": [
        {
          "output_type": "execute_result",
          "data": {
            "text/plain": [
              "    index  sport\n",
              "0      53     60\n",
              "1    8080     30\n",
              "2   56274     15\n",
              "3   56392     13\n",
              "4    6000     11\n",
              "5   56432      6\n",
              "6   55240      5\n",
              "7   55246      5\n",
              "8   56440      5\n",
              "9   54806      4\n",
              "10   9000      3\n",
              "11  54862      2\n",
              "12  51142      1\n",
              "13  15812      1\n",
              "14  23903      1"
            ],
            "text/html": [
              "\n",
              "  <div id=\"df-9679fd68-2dc7-4aa6-b3c0-c65bcfbfb8c6\">\n",
              "    <div class=\"colab-df-container\">\n",
              "      <div>\n",
              "<style scoped>\n",
              "    .dataframe tbody tr th:only-of-type {\n",
              "        vertical-align: middle;\n",
              "    }\n",
              "\n",
              "    .dataframe tbody tr th {\n",
              "        vertical-align: top;\n",
              "    }\n",
              "\n",
              "    .dataframe thead th {\n",
              "        text-align: right;\n",
              "    }\n",
              "</style>\n",
              "<table border=\"1\" class=\"dataframe\">\n",
              "  <thead>\n",
              "    <tr style=\"text-align: right;\">\n",
              "      <th></th>\n",
              "      <th>index</th>\n",
              "      <th>sport</th>\n",
              "    </tr>\n",
              "  </thead>\n",
              "  <tbody>\n",
              "    <tr>\n",
              "      <th>0</th>\n",
              "      <td>53</td>\n",
              "      <td>60</td>\n",
              "    </tr>\n",
              "    <tr>\n",
              "      <th>1</th>\n",
              "      <td>8080</td>\n",
              "      <td>30</td>\n",
              "    </tr>\n",
              "    <tr>\n",
              "      <th>2</th>\n",
              "      <td>56274</td>\n",
              "      <td>15</td>\n",
              "    </tr>\n",
              "    <tr>\n",
              "      <th>3</th>\n",
              "      <td>56392</td>\n",
              "      <td>13</td>\n",
              "    </tr>\n",
              "    <tr>\n",
              "      <th>4</th>\n",
              "      <td>6000</td>\n",
              "      <td>11</td>\n",
              "    </tr>\n",
              "    <tr>\n",
              "      <th>5</th>\n",
              "      <td>56432</td>\n",
              "      <td>6</td>\n",
              "    </tr>\n",
              "    <tr>\n",
              "      <th>6</th>\n",
              "      <td>55240</td>\n",
              "      <td>5</td>\n",
              "    </tr>\n",
              "    <tr>\n",
              "      <th>7</th>\n",
              "      <td>55246</td>\n",
              "      <td>5</td>\n",
              "    </tr>\n",
              "    <tr>\n",
              "      <th>8</th>\n",
              "      <td>56440</td>\n",
              "      <td>5</td>\n",
              "    </tr>\n",
              "    <tr>\n",
              "      <th>9</th>\n",
              "      <td>54806</td>\n",
              "      <td>4</td>\n",
              "    </tr>\n",
              "    <tr>\n",
              "      <th>10</th>\n",
              "      <td>9000</td>\n",
              "      <td>3</td>\n",
              "    </tr>\n",
              "    <tr>\n",
              "      <th>11</th>\n",
              "      <td>54862</td>\n",
              "      <td>2</td>\n",
              "    </tr>\n",
              "    <tr>\n",
              "      <th>12</th>\n",
              "      <td>51142</td>\n",
              "      <td>1</td>\n",
              "    </tr>\n",
              "    <tr>\n",
              "      <th>13</th>\n",
              "      <td>15812</td>\n",
              "      <td>1</td>\n",
              "    </tr>\n",
              "    <tr>\n",
              "      <th>14</th>\n",
              "      <td>23903</td>\n",
              "      <td>1</td>\n",
              "    </tr>\n",
              "  </tbody>\n",
              "</table>\n",
              "</div>\n",
              "      <button class=\"colab-df-convert\" onclick=\"convertToInteractive('df-9679fd68-2dc7-4aa6-b3c0-c65bcfbfb8c6')\"\n",
              "              title=\"Convert this dataframe to an interactive table.\"\n",
              "              style=\"display:none;\">\n",
              "        \n",
              "  <svg xmlns=\"http://www.w3.org/2000/svg\" height=\"24px\"viewBox=\"0 0 24 24\"\n",
              "       width=\"24px\">\n",
              "    <path d=\"M0 0h24v24H0V0z\" fill=\"none\"/>\n",
              "    <path d=\"M18.56 5.44l.94 2.06.94-2.06 2.06-.94-2.06-.94-.94-2.06-.94 2.06-2.06.94zm-11 1L8.5 8.5l.94-2.06 2.06-.94-2.06-.94L8.5 2.5l-.94 2.06-2.06.94zm10 10l.94 2.06.94-2.06 2.06-.94-2.06-.94-.94-2.06-.94 2.06-2.06.94z\"/><path d=\"M17.41 7.96l-1.37-1.37c-.4-.4-.92-.59-1.43-.59-.52 0-1.04.2-1.43.59L10.3 9.45l-7.72 7.72c-.78.78-.78 2.05 0 2.83L4 21.41c.39.39.9.59 1.41.59.51 0 1.02-.2 1.41-.59l7.78-7.78 2.81-2.81c.8-.78.8-2.07 0-2.86zM5.41 20L4 18.59l7.72-7.72 1.47 1.35L5.41 20z\"/>\n",
              "  </svg>\n",
              "      </button>\n",
              "      \n",
              "  <style>\n",
              "    .colab-df-container {\n",
              "      display:flex;\n",
              "      flex-wrap:wrap;\n",
              "      gap: 12px;\n",
              "    }\n",
              "\n",
              "    .colab-df-convert {\n",
              "      background-color: #E8F0FE;\n",
              "      border: none;\n",
              "      border-radius: 50%;\n",
              "      cursor: pointer;\n",
              "      display: none;\n",
              "      fill: #1967D2;\n",
              "      height: 32px;\n",
              "      padding: 0 0 0 0;\n",
              "      width: 32px;\n",
              "    }\n",
              "\n",
              "    .colab-df-convert:hover {\n",
              "      background-color: #E2EBFA;\n",
              "      box-shadow: 0px 1px 2px rgba(60, 64, 67, 0.3), 0px 1px 3px 1px rgba(60, 64, 67, 0.15);\n",
              "      fill: #174EA6;\n",
              "    }\n",
              "\n",
              "    [theme=dark] .colab-df-convert {\n",
              "      background-color: #3B4455;\n",
              "      fill: #D2E3FC;\n",
              "    }\n",
              "\n",
              "    [theme=dark] .colab-df-convert:hover {\n",
              "      background-color: #434B5C;\n",
              "      box-shadow: 0px 1px 3px 1px rgba(0, 0, 0, 0.15);\n",
              "      filter: drop-shadow(0px 1px 2px rgba(0, 0, 0, 0.3));\n",
              "      fill: #FFFFFF;\n",
              "    }\n",
              "  </style>\n",
              "\n",
              "      <script>\n",
              "        const buttonEl =\n",
              "          document.querySelector('#df-9679fd68-2dc7-4aa6-b3c0-c65bcfbfb8c6 button.colab-df-convert');\n",
              "        buttonEl.style.display =\n",
              "          google.colab.kernel.accessAllowed ? 'block' : 'none';\n",
              "\n",
              "        async function convertToInteractive(key) {\n",
              "          const element = document.querySelector('#df-9679fd68-2dc7-4aa6-b3c0-c65bcfbfb8c6');\n",
              "          const dataTable =\n",
              "            await google.colab.kernel.invokeFunction('convertToInteractive',\n",
              "                                                     [key], {});\n",
              "          if (!dataTable) return;\n",
              "\n",
              "          const docLinkHtml = 'Like what you see? Visit the ' +\n",
              "            '<a target=\"_blank\" href=https://colab.research.google.com/notebooks/data_table.ipynb>data table notebook</a>'\n",
              "            + ' to learn more about interactive tables.';\n",
              "          element.innerHTML = '';\n",
              "          dataTable['output_type'] = 'display_data';\n",
              "          await google.colab.output.renderOutput(dataTable, element);\n",
              "          const docLink = document.createElement('div');\n",
              "          docLink.innerHTML = docLinkHtml;\n",
              "          element.appendChild(docLink);\n",
              "        }\n",
              "      </script>\n",
              "    </div>\n",
              "  </div>\n",
              "  "
            ]
          },
          "metadata": {},
          "execution_count": 84
        }
      ]
    },
    {
      "cell_type": "code",
      "source": [
        "sport_count.rename(\n",
        "    columns = {\n",
        "        \"index\" : \"port\",\n",
        "        \"sport\" : \"count\"\n",
        "    },\n",
        "    inplace = True\n",
        ")\n",
        "sport_count"
      ],
      "metadata": {
        "colab": {
          "base_uri": "https://localhost:8080/",
          "height": 514
        },
        "id": "uAMnXWl9eqBx",
        "outputId": "e45149a6-5e40-49c7-f458-3dca8da3f912"
      },
      "execution_count": null,
      "outputs": [
        {
          "output_type": "execute_result",
          "data": {
            "text/plain": [
              "     port  count\n",
              "0      53     60\n",
              "1    8080     30\n",
              "2   56274     15\n",
              "3   56392     13\n",
              "4    6000     11\n",
              "5   56432      6\n",
              "6   55240      5\n",
              "7   55246      5\n",
              "8   56440      5\n",
              "9   54806      4\n",
              "10   9000      3\n",
              "11  54862      2\n",
              "12  51142      1\n",
              "13  15812      1\n",
              "14  23903      1"
            ],
            "text/html": [
              "\n",
              "  <div id=\"df-feeaa4e3-4a23-49d9-90df-b2d85d0a456a\">\n",
              "    <div class=\"colab-df-container\">\n",
              "      <div>\n",
              "<style scoped>\n",
              "    .dataframe tbody tr th:only-of-type {\n",
              "        vertical-align: middle;\n",
              "    }\n",
              "\n",
              "    .dataframe tbody tr th {\n",
              "        vertical-align: top;\n",
              "    }\n",
              "\n",
              "    .dataframe thead th {\n",
              "        text-align: right;\n",
              "    }\n",
              "</style>\n",
              "<table border=\"1\" class=\"dataframe\">\n",
              "  <thead>\n",
              "    <tr style=\"text-align: right;\">\n",
              "      <th></th>\n",
              "      <th>port</th>\n",
              "      <th>count</th>\n",
              "    </tr>\n",
              "  </thead>\n",
              "  <tbody>\n",
              "    <tr>\n",
              "      <th>0</th>\n",
              "      <td>53</td>\n",
              "      <td>60</td>\n",
              "    </tr>\n",
              "    <tr>\n",
              "      <th>1</th>\n",
              "      <td>8080</td>\n",
              "      <td>30</td>\n",
              "    </tr>\n",
              "    <tr>\n",
              "      <th>2</th>\n",
              "      <td>56274</td>\n",
              "      <td>15</td>\n",
              "    </tr>\n",
              "    <tr>\n",
              "      <th>3</th>\n",
              "      <td>56392</td>\n",
              "      <td>13</td>\n",
              "    </tr>\n",
              "    <tr>\n",
              "      <th>4</th>\n",
              "      <td>6000</td>\n",
              "      <td>11</td>\n",
              "    </tr>\n",
              "    <tr>\n",
              "      <th>5</th>\n",
              "      <td>56432</td>\n",
              "      <td>6</td>\n",
              "    </tr>\n",
              "    <tr>\n",
              "      <th>6</th>\n",
              "      <td>55240</td>\n",
              "      <td>5</td>\n",
              "    </tr>\n",
              "    <tr>\n",
              "      <th>7</th>\n",
              "      <td>55246</td>\n",
              "      <td>5</td>\n",
              "    </tr>\n",
              "    <tr>\n",
              "      <th>8</th>\n",
              "      <td>56440</td>\n",
              "      <td>5</td>\n",
              "    </tr>\n",
              "    <tr>\n",
              "      <th>9</th>\n",
              "      <td>54806</td>\n",
              "      <td>4</td>\n",
              "    </tr>\n",
              "    <tr>\n",
              "      <th>10</th>\n",
              "      <td>9000</td>\n",
              "      <td>3</td>\n",
              "    </tr>\n",
              "    <tr>\n",
              "      <th>11</th>\n",
              "      <td>54862</td>\n",
              "      <td>2</td>\n",
              "    </tr>\n",
              "    <tr>\n",
              "      <th>12</th>\n",
              "      <td>51142</td>\n",
              "      <td>1</td>\n",
              "    </tr>\n",
              "    <tr>\n",
              "      <th>13</th>\n",
              "      <td>15812</td>\n",
              "      <td>1</td>\n",
              "    </tr>\n",
              "    <tr>\n",
              "      <th>14</th>\n",
              "      <td>23903</td>\n",
              "      <td>1</td>\n",
              "    </tr>\n",
              "  </tbody>\n",
              "</table>\n",
              "</div>\n",
              "      <button class=\"colab-df-convert\" onclick=\"convertToInteractive('df-feeaa4e3-4a23-49d9-90df-b2d85d0a456a')\"\n",
              "              title=\"Convert this dataframe to an interactive table.\"\n",
              "              style=\"display:none;\">\n",
              "        \n",
              "  <svg xmlns=\"http://www.w3.org/2000/svg\" height=\"24px\"viewBox=\"0 0 24 24\"\n",
              "       width=\"24px\">\n",
              "    <path d=\"M0 0h24v24H0V0z\" fill=\"none\"/>\n",
              "    <path d=\"M18.56 5.44l.94 2.06.94-2.06 2.06-.94-2.06-.94-.94-2.06-.94 2.06-2.06.94zm-11 1L8.5 8.5l.94-2.06 2.06-.94-2.06-.94L8.5 2.5l-.94 2.06-2.06.94zm10 10l.94 2.06.94-2.06 2.06-.94-2.06-.94-.94-2.06-.94 2.06-2.06.94z\"/><path d=\"M17.41 7.96l-1.37-1.37c-.4-.4-.92-.59-1.43-.59-.52 0-1.04.2-1.43.59L10.3 9.45l-7.72 7.72c-.78.78-.78 2.05 0 2.83L4 21.41c.39.39.9.59 1.41.59.51 0 1.02-.2 1.41-.59l7.78-7.78 2.81-2.81c.8-.78.8-2.07 0-2.86zM5.41 20L4 18.59l7.72-7.72 1.47 1.35L5.41 20z\"/>\n",
              "  </svg>\n",
              "      </button>\n",
              "      \n",
              "  <style>\n",
              "    .colab-df-container {\n",
              "      display:flex;\n",
              "      flex-wrap:wrap;\n",
              "      gap: 12px;\n",
              "    }\n",
              "\n",
              "    .colab-df-convert {\n",
              "      background-color: #E8F0FE;\n",
              "      border: none;\n",
              "      border-radius: 50%;\n",
              "      cursor: pointer;\n",
              "      display: none;\n",
              "      fill: #1967D2;\n",
              "      height: 32px;\n",
              "      padding: 0 0 0 0;\n",
              "      width: 32px;\n",
              "    }\n",
              "\n",
              "    .colab-df-convert:hover {\n",
              "      background-color: #E2EBFA;\n",
              "      box-shadow: 0px 1px 2px rgba(60, 64, 67, 0.3), 0px 1px 3px 1px rgba(60, 64, 67, 0.15);\n",
              "      fill: #174EA6;\n",
              "    }\n",
              "\n",
              "    [theme=dark] .colab-df-convert {\n",
              "      background-color: #3B4455;\n",
              "      fill: #D2E3FC;\n",
              "    }\n",
              "\n",
              "    [theme=dark] .colab-df-convert:hover {\n",
              "      background-color: #434B5C;\n",
              "      box-shadow: 0px 1px 3px 1px rgba(0, 0, 0, 0.15);\n",
              "      filter: drop-shadow(0px 1px 2px rgba(0, 0, 0, 0.3));\n",
              "      fill: #FFFFFF;\n",
              "    }\n",
              "  </style>\n",
              "\n",
              "      <script>\n",
              "        const buttonEl =\n",
              "          document.querySelector('#df-feeaa4e3-4a23-49d9-90df-b2d85d0a456a button.colab-df-convert');\n",
              "        buttonEl.style.display =\n",
              "          google.colab.kernel.accessAllowed ? 'block' : 'none';\n",
              "\n",
              "        async function convertToInteractive(key) {\n",
              "          const element = document.querySelector('#df-feeaa4e3-4a23-49d9-90df-b2d85d0a456a');\n",
              "          const dataTable =\n",
              "            await google.colab.kernel.invokeFunction('convertToInteractive',\n",
              "                                                     [key], {});\n",
              "          if (!dataTable) return;\n",
              "\n",
              "          const docLinkHtml = 'Like what you see? Visit the ' +\n",
              "            '<a target=\"_blank\" href=https://colab.research.google.com/notebooks/data_table.ipynb>data table notebook</a>'\n",
              "            + ' to learn more about interactive tables.';\n",
              "          element.innerHTML = '';\n",
              "          dataTable['output_type'] = 'display_data';\n",
              "          await google.colab.output.renderOutput(dataTable, element);\n",
              "          const docLink = document.createElement('div');\n",
              "          docLink.innerHTML = docLinkHtml;\n",
              "          element.appendChild(docLink);\n",
              "        }\n",
              "      </script>\n",
              "    </div>\n",
              "  </div>\n",
              "  "
            ]
          },
          "metadata": {},
          "execution_count": 86
        }
      ]
    },
    {
      "cell_type": "code",
      "source": [
        "sport_count.info()"
      ],
      "metadata": {
        "colab": {
          "base_uri": "https://localhost:8080/"
        },
        "id": "-_6PevvuhWvU",
        "outputId": "7112299c-06db-426f-e105-a4f5fe100d95"
      },
      "execution_count": null,
      "outputs": [
        {
          "output_type": "stream",
          "name": "stdout",
          "text": [
            "<class 'pandas.core.frame.DataFrame'>\n",
            "RangeIndex: 15 entries, 0 to 14\n",
            "Data columns (total 2 columns):\n",
            " #   Column  Non-Null Count  Dtype\n",
            "---  ------  --------------  -----\n",
            " 0   port    15 non-null     int64\n",
            " 1   count   15 non-null     int64\n",
            "dtypes: int64(2)\n",
            "memory usage: 368.0 bytes\n"
          ]
        }
      ]
    },
    {
      "cell_type": "code",
      "source": [
        "sport_count[\"port\"] = sport_count[\"port\"].apply(str)\n",
        "sport_count.info()"
      ],
      "metadata": {
        "colab": {
          "base_uri": "https://localhost:8080/"
        },
        "id": "0OlWNxKghcWl",
        "outputId": "f59bcc70-260f-43be-b427-3889298f2b43"
      },
      "execution_count": null,
      "outputs": [
        {
          "output_type": "stream",
          "name": "stdout",
          "text": [
            "<class 'pandas.core.frame.DataFrame'>\n",
            "RangeIndex: 15 entries, 0 to 14\n",
            "Data columns (total 2 columns):\n",
            " #   Column  Non-Null Count  Dtype \n",
            "---  ------  --------------  ----- \n",
            " 0   port    15 non-null     object\n",
            " 1   count   15 non-null     int64 \n",
            "dtypes: int64(1), object(1)\n",
            "memory usage: 368.0+ bytes\n"
          ]
        }
      ]
    },
    {
      "cell_type": "code",
      "source": [
        "ax = sns.barplot(\n",
        "  x = \"count\",\n",
        "  y = \"port\", \n",
        "  data = sport_count\n",
        ")"
      ],
      "metadata": {
        "colab": {
          "base_uri": "https://localhost:8080/",
          "height": 285
        },
        "id": "qAJDi9ciexNg",
        "outputId": "3b762661-05f1-4020-effd-cbe277631f07"
      },
      "execution_count": null,
      "outputs": [
        {
          "output_type": "display_data",
          "data": {
            "text/plain": [
              "<Figure size 432x288 with 1 Axes>"
            ],
            "image/png": "[encoded data removed]"
          },
          "metadata": {
            "needs_background": "light"
          }
        }
      ]
    },
    {
      "cell_type": "markdown",
      "source": [
        "> **d. Muestre una gráfica 2D, en el eje Y los puertos destino, y en el eje X la suma de los \n",
        "payloads recibidos en dichos puertos.**"
      ],
      "metadata": {
        "id": "63-HNV3Ph7vJ"
      }
    },
    {
      "cell_type": "code",
      "source": [
        "dport_count = df['dport'].value_counts()\n",
        "dport_count = dport_count.to_frame().reset_index()\n",
        "dport_count"
      ],
      "metadata": {
        "colab": {
          "base_uri": "https://localhost:8080/",
          "height": 514
        },
        "id": "KNifmsVHiCCb",
        "outputId": "51033f49-4473-45bb-f74f-b3abf54ed9ab"
      },
      "execution_count": null,
      "outputs": [
        {
          "output_type": "execute_result",
          "data": {
            "text/plain": [
              "    index  dport\n",
              "0      53     60\n",
              "1    8080     39\n",
              "2   56274     14\n",
              "3    6000     11\n",
              "4   56392      8\n",
              "5    9000      6\n",
              "6   55240      5\n",
              "7   55246      5\n",
              "8   56432      4\n",
              "9   56440      4\n",
              "10  54806      2\n",
              "11  54862      1\n",
              "12  51142      1\n",
              "13  15812      1\n",
              "14  23903      1"
            ],
            "text/html": [
              "\n",
              "  <div id=\"df-867bccd6-2161-4fdd-a73e-b5f77f9394fc\">\n",
              "    <div class=\"colab-df-container\">\n",
              "      <div>\n",
              "<style scoped>\n",
              "    .dataframe tbody tr th:only-of-type {\n",
              "        vertical-align: middle;\n",
              "    }\n",
              "\n",
              "    .dataframe tbody tr th {\n",
              "        vertical-align: top;\n",
              "    }\n",
              "\n",
              "    .dataframe thead th {\n",
              "        text-align: right;\n",
              "    }\n",
              "</style>\n",
              "<table border=\"1\" class=\"dataframe\">\n",
              "  <thead>\n",
              "    <tr style=\"text-align: right;\">\n",
              "      <th></th>\n",
              "      <th>index</th>\n",
              "      <th>dport</th>\n",
              "    </tr>\n",
              "  </thead>\n",
              "  <tbody>\n",
              "    <tr>\n",
              "      <th>0</th>\n",
              "      <td>53</td>\n",
              "      <td>60</td>\n",
              "    </tr>\n",
              "    <tr>\n",
              "      <th>1</th>\n",
              "      <td>8080</td>\n",
              "      <td>39</td>\n",
              "    </tr>\n",
              "    <tr>\n",
              "      <th>2</th>\n",
              "      <td>56274</td>\n",
              "      <td>14</td>\n",
              "    </tr>\n",
              "    <tr>\n",
              "      <th>3</th>\n",
              "      <td>6000</td>\n",
              "      <td>11</td>\n",
              "    </tr>\n",
              "    <tr>\n",
              "      <th>4</th>\n",
              "      <td>56392</td>\n",
              "      <td>8</td>\n",
              "    </tr>\n",
              "    <tr>\n",
              "      <th>5</th>\n",
              "      <td>9000</td>\n",
              "      <td>6</td>\n",
              "    </tr>\n",
              "    <tr>\n",
              "      <th>6</th>\n",
              "      <td>55240</td>\n",
              "      <td>5</td>\n",
              "    </tr>\n",
              "    <tr>\n",
              "      <th>7</th>\n",
              "      <td>55246</td>\n",
              "      <td>5</td>\n",
              "    </tr>\n",
              "    <tr>\n",
              "      <th>8</th>\n",
              "      <td>56432</td>\n",
              "      <td>4</td>\n",
              "    </tr>\n",
              "    <tr>\n",
              "      <th>9</th>\n",
              "      <td>56440</td>\n",
              "      <td>4</td>\n",
              "    </tr>\n",
              "    <tr>\n",
              "      <th>10</th>\n",
              "      <td>54806</td>\n",
              "      <td>2</td>\n",
              "    </tr>\n",
              "    <tr>\n",
              "      <th>11</th>\n",
              "      <td>54862</td>\n",
              "      <td>1</td>\n",
              "    </tr>\n",
              "    <tr>\n",
              "      <th>12</th>\n",
              "      <td>51142</td>\n",
              "      <td>1</td>\n",
              "    </tr>\n",
              "    <tr>\n",
              "      <th>13</th>\n",
              "      <td>15812</td>\n",
              "      <td>1</td>\n",
              "    </tr>\n",
              "    <tr>\n",
              "      <th>14</th>\n",
              "      <td>23903</td>\n",
              "      <td>1</td>\n",
              "    </tr>\n",
              "  </tbody>\n",
              "</table>\n",
              "</div>\n",
              "      <button class=\"colab-df-convert\" onclick=\"convertToInteractive('df-867bccd6-2161-4fdd-a73e-b5f77f9394fc')\"\n",
              "              title=\"Convert this dataframe to an interactive table.\"\n",
              "              style=\"display:none;\">\n",
              "        \n",
              "  <svg xmlns=\"http://www.w3.org/2000/svg\" height=\"24px\"viewBox=\"0 0 24 24\"\n",
              "       width=\"24px\">\n",
              "    <path d=\"M0 0h24v24H0V0z\" fill=\"none\"/>\n",
              "    <path d=\"M18.56 5.44l.94 2.06.94-2.06 2.06-.94-2.06-.94-.94-2.06-.94 2.06-2.06.94zm-11 1L8.5 8.5l.94-2.06 2.06-.94-2.06-.94L8.5 2.5l-.94 2.06-2.06.94zm10 10l.94 2.06.94-2.06 2.06-.94-2.06-.94-.94-2.06-.94 2.06-2.06.94z\"/><path d=\"M17.41 7.96l-1.37-1.37c-.4-.4-.92-.59-1.43-.59-.52 0-1.04.2-1.43.59L10.3 9.45l-7.72 7.72c-.78.78-.78 2.05 0 2.83L4 21.41c.39.39.9.59 1.41.59.51 0 1.02-.2 1.41-.59l7.78-7.78 2.81-2.81c.8-.78.8-2.07 0-2.86zM5.41 20L4 18.59l7.72-7.72 1.47 1.35L5.41 20z\"/>\n",
              "  </svg>\n",
              "      </button>\n",
              "      \n",
              "  <style>\n",
              "    .colab-df-container {\n",
              "      display:flex;\n",
              "      flex-wrap:wrap;\n",
              "      gap: 12px;\n",
              "    }\n",
              "\n",
              "    .colab-df-convert {\n",
              "      background-color: #E8F0FE;\n",
              "      border: none;\n",
              "      border-radius: 50%;\n",
              "      cursor: pointer;\n",
              "      display: none;\n",
              "      fill: #1967D2;\n",
              "      height: 32px;\n",
              "      padding: 0 0 0 0;\n",
              "      width: 32px;\n",
              "    }\n",
              "\n",
              "    .colab-df-convert:hover {\n",
              "      background-color: #E2EBFA;\n",
              "      box-shadow: 0px 1px 2px rgba(60, 64, 67, 0.3), 0px 1px 3px 1px rgba(60, 64, 67, 0.15);\n",
              "      fill: #174EA6;\n",
              "    }\n",
              "\n",
              "    [theme=dark] .colab-df-convert {\n",
              "      background-color: #3B4455;\n",
              "      fill: #D2E3FC;\n",
              "    }\n",
              "\n",
              "    [theme=dark] .colab-df-convert:hover {\n",
              "      background-color: #434B5C;\n",
              "      box-shadow: 0px 1px 3px 1px rgba(0, 0, 0, 0.15);\n",
              "      filter: drop-shadow(0px 1px 2px rgba(0, 0, 0, 0.3));\n",
              "      fill: #FFFFFF;\n",
              "    }\n",
              "  </style>\n",
              "\n",
              "      <script>\n",
              "        const buttonEl =\n",
              "          document.querySelector('#df-867bccd6-2161-4fdd-a73e-b5f77f9394fc button.colab-df-convert');\n",
              "        buttonEl.style.display =\n",
              "          google.colab.kernel.accessAllowed ? 'block' : 'none';\n",
              "\n",
              "        async function convertToInteractive(key) {\n",
              "          const element = document.querySelector('#df-867bccd6-2161-4fdd-a73e-b5f77f9394fc');\n",
              "          const dataTable =\n",
              "            await google.colab.kernel.invokeFunction('convertToInteractive',\n",
              "                                                     [key], {});\n",
              "          if (!dataTable) return;\n",
              "\n",
              "          const docLinkHtml = 'Like what you see? Visit the ' +\n",
              "            '<a target=\"_blank\" href=https://colab.research.google.com/notebooks/data_table.ipynb>data table notebook</a>'\n",
              "            + ' to learn more about interactive tables.';\n",
              "          element.innerHTML = '';\n",
              "          dataTable['output_type'] = 'display_data';\n",
              "          await google.colab.output.renderOutput(dataTable, element);\n",
              "          const docLink = document.createElement('div');\n",
              "          docLink.innerHTML = docLinkHtml;\n",
              "          element.appendChild(docLink);\n",
              "        }\n",
              "      </script>\n",
              "    </div>\n",
              "  </div>\n",
              "  "
            ]
          },
          "metadata": {},
          "execution_count": 95
        }
      ]
    },
    {
      "cell_type": "code",
      "source": [
        "dport_count.rename(\n",
        "    columns = {\n",
        "        \"index\" : \"port\",\n",
        "        \"dport\" : \"count\"\n",
        "    },\n",
        "    inplace = True\n",
        ")\n",
        "dport_count"
      ],
      "metadata": {
        "colab": {
          "base_uri": "https://localhost:8080/",
          "height": 514
        },
        "id": "i0ahGmrViRHy",
        "outputId": "19826117-2855-407b-9053-e53fd2dda123"
      },
      "execution_count": null,
      "outputs": [
        {
          "output_type": "execute_result",
          "data": {
            "text/plain": [
              "     port  count\n",
              "0      53     60\n",
              "1    8080     39\n",
              "2   56274     14\n",
              "3    6000     11\n",
              "4   56392      8\n",
              "5    9000      6\n",
              "6   55240      5\n",
              "7   55246      5\n",
              "8   56432      4\n",
              "9   56440      4\n",
              "10  54806      2\n",
              "11  54862      1\n",
              "12  51142      1\n",
              "13  15812      1\n",
              "14  23903      1"
            ],
            "text/html": [
              "\n",
              "  <div id=\"df-51e9223e-6384-41b5-91e9-e78ad4eabc4e\">\n",
              "    <div class=\"colab-df-container\">\n",
              "      <div>\n",
              "<style scoped>\n",
              "    .dataframe tbody tr th:only-of-type {\n",
              "        vertical-align: middle;\n",
              "    }\n",
              "\n",
              "    .dataframe tbody tr th {\n",
              "        vertical-align: top;\n",
              "    }\n",
              "\n",
              "    .dataframe thead th {\n",
              "        text-align: right;\n",
              "    }\n",
              "</style>\n",
              "<table border=\"1\" class=\"dataframe\">\n",
              "  <thead>\n",
              "    <tr style=\"text-align: right;\">\n",
              "      <th></th>\n",
              "      <th>port</th>\n",
              "      <th>count</th>\n",
              "    </tr>\n",
              "  </thead>\n",
              "  <tbody>\n",
              "    <tr>\n",
              "      <th>0</th>\n",
              "      <td>53</td>\n",
              "      <td>60</td>\n",
              "    </tr>\n",
              "    <tr>\n",
              "      <th>1</th>\n",
              "      <td>8080</td>\n",
              "      <td>39</td>\n",
              "    </tr>\n",
              "    <tr>\n",
              "      <th>2</th>\n",
              "      <td>56274</td>\n",
              "      <td>14</td>\n",
              "    </tr>\n",
              "    <tr>\n",
              "      <th>3</th>\n",
              "      <td>6000</td>\n",
              "      <td>11</td>\n",
              "    </tr>\n",
              "    <tr>\n",
              "      <th>4</th>\n",
              "      <td>56392</td>\n",
              "      <td>8</td>\n",
              "    </tr>\n",
              "    <tr>\n",
              "      <th>5</th>\n",
              "      <td>9000</td>\n",
              "      <td>6</td>\n",
              "    </tr>\n",
              "    <tr>\n",
              "      <th>6</th>\n",
              "      <td>55240</td>\n",
              "      <td>5</td>\n",
              "    </tr>\n",
              "    <tr>\n",
              "      <th>7</th>\n",
              "      <td>55246</td>\n",
              "      <td>5</td>\n",
              "    </tr>\n",
              "    <tr>\n",
              "      <th>8</th>\n",
              "      <td>56432</td>\n",
              "      <td>4</td>\n",
              "    </tr>\n",
              "    <tr>\n",
              "      <th>9</th>\n",
              "      <td>56440</td>\n",
              "      <td>4</td>\n",
              "    </tr>\n",
              "    <tr>\n",
              "      <th>10</th>\n",
              "      <td>54806</td>\n",
              "      <td>2</td>\n",
              "    </tr>\n",
              "    <tr>\n",
              "      <th>11</th>\n",
              "      <td>54862</td>\n",
              "      <td>1</td>\n",
              "    </tr>\n",
              "    <tr>\n",
              "      <th>12</th>\n",
              "      <td>51142</td>\n",
              "      <td>1</td>\n",
              "    </tr>\n",
              "    <tr>\n",
              "      <th>13</th>\n",
              "      <td>15812</td>\n",
              "      <td>1</td>\n",
              "    </tr>\n",
              "    <tr>\n",
              "      <th>14</th>\n",
              "      <td>23903</td>\n",
              "      <td>1</td>\n",
              "    </tr>\n",
              "  </tbody>\n",
              "</table>\n",
              "</div>\n",
              "      <button class=\"colab-df-convert\" onclick=\"convertToInteractive('df-51e9223e-6384-41b5-91e9-e78ad4eabc4e')\"\n",
              "              title=\"Convert this dataframe to an interactive table.\"\n",
              "              style=\"display:none;\">\n",
              "        \n",
              "  <svg xmlns=\"http://www.w3.org/2000/svg\" height=\"24px\"viewBox=\"0 0 24 24\"\n",
              "       width=\"24px\">\n",
              "    <path d=\"M0 0h24v24H0V0z\" fill=\"none\"/>\n",
              "    <path d=\"M18.56 5.44l.94 2.06.94-2.06 2.06-.94-2.06-.94-.94-2.06-.94 2.06-2.06.94zm-11 1L8.5 8.5l.94-2.06 2.06-.94-2.06-.94L8.5 2.5l-.94 2.06-2.06.94zm10 10l.94 2.06.94-2.06 2.06-.94-2.06-.94-.94-2.06-.94 2.06-2.06.94z\"/><path d=\"M17.41 7.96l-1.37-1.37c-.4-.4-.92-.59-1.43-.59-.52 0-1.04.2-1.43.59L10.3 9.45l-7.72 7.72c-.78.78-.78 2.05 0 2.83L4 21.41c.39.39.9.59 1.41.59.51 0 1.02-.2 1.41-.59l7.78-7.78 2.81-2.81c.8-.78.8-2.07 0-2.86zM5.41 20L4 18.59l7.72-7.72 1.47 1.35L5.41 20z\"/>\n",
              "  </svg>\n",
              "      </button>\n",
              "      \n",
              "  <style>\n",
              "    .colab-df-container {\n",
              "      display:flex;\n",
              "      flex-wrap:wrap;\n",
              "      gap: 12px;\n",
              "    }\n",
              "\n",
              "    .colab-df-convert {\n",
              "      background-color: #E8F0FE;\n",
              "      border: none;\n",
              "      border-radius: 50%;\n",
              "      cursor: pointer;\n",
              "      display: none;\n",
              "      fill: #1967D2;\n",
              "      height: 32px;\n",
              "      padding: 0 0 0 0;\n",
              "      width: 32px;\n",
              "    }\n",
              "\n",
              "    .colab-df-convert:hover {\n",
              "      background-color: #E2EBFA;\n",
              "      box-shadow: 0px 1px 2px rgba(60, 64, 67, 0.3), 0px 1px 3px 1px rgba(60, 64, 67, 0.15);\n",
              "      fill: #174EA6;\n",
              "    }\n",
              "\n",
              "    [theme=dark] .colab-df-convert {\n",
              "      background-color: #3B4455;\n",
              "      fill: #D2E3FC;\n",
              "    }\n",
              "\n",
              "    [theme=dark] .colab-df-convert:hover {\n",
              "      background-color: #434B5C;\n",
              "      box-shadow: 0px 1px 3px 1px rgba(0, 0, 0, 0.15);\n",
              "      filter: drop-shadow(0px 1px 2px rgba(0, 0, 0, 0.3));\n",
              "      fill: #FFFFFF;\n",
              "    }\n",
              "  </style>\n",
              "\n",
              "      <script>\n",
              "        const buttonEl =\n",
              "          document.querySelector('#df-51e9223e-6384-41b5-91e9-e78ad4eabc4e button.colab-df-convert');\n",
              "        buttonEl.style.display =\n",
              "          google.colab.kernel.accessAllowed ? 'block' : 'none';\n",
              "\n",
              "        async function convertToInteractive(key) {\n",
              "          const element = document.querySelector('#df-51e9223e-6384-41b5-91e9-e78ad4eabc4e');\n",
              "          const dataTable =\n",
              "            await google.colab.kernel.invokeFunction('convertToInteractive',\n",
              "                                                     [key], {});\n",
              "          if (!dataTable) return;\n",
              "\n",
              "          const docLinkHtml = 'Like what you see? Visit the ' +\n",
              "            '<a target=\"_blank\" href=https://colab.research.google.com/notebooks/data_table.ipynb>data table notebook</a>'\n",
              "            + ' to learn more about interactive tables.';\n",
              "          element.innerHTML = '';\n",
              "          dataTable['output_type'] = 'display_data';\n",
              "          await google.colab.output.renderOutput(dataTable, element);\n",
              "          const docLink = document.createElement('div');\n",
              "          docLink.innerHTML = docLinkHtml;\n",
              "          element.appendChild(docLink);\n",
              "        }\n",
              "      </script>\n",
              "    </div>\n",
              "  </div>\n",
              "  "
            ]
          },
          "metadata": {},
          "execution_count": 96
        }
      ]
    },
    {
      "cell_type": "code",
      "source": [
        "dport_count.info()"
      ],
      "metadata": {
        "colab": {
          "base_uri": "https://localhost:8080/"
        },
        "id": "2QgcPqF0iXuE",
        "outputId": "3343341b-117c-4e54-b630-1c610db1cb17"
      },
      "execution_count": null,
      "outputs": [
        {
          "output_type": "stream",
          "name": "stdout",
          "text": [
            "<class 'pandas.core.frame.DataFrame'>\n",
            "RangeIndex: 15 entries, 0 to 14\n",
            "Data columns (total 2 columns):\n",
            " #   Column  Non-Null Count  Dtype\n",
            "---  ------  --------------  -----\n",
            " 0   port    15 non-null     int64\n",
            " 1   count   15 non-null     int64\n",
            "dtypes: int64(2)\n",
            "memory usage: 368.0 bytes\n"
          ]
        }
      ]
    },
    {
      "cell_type": "code",
      "source": [
        "dport_count[\"port\"] = dport_count[\"port\"].apply(str)\n",
        "dport_count.info()"
      ],
      "metadata": {
        "colab": {
          "base_uri": "https://localhost:8080/"
        },
        "id": "xCxDbeMBibp0",
        "outputId": "c76b2ad7-904e-4c50-eeec-d8b2721a9ee2"
      },
      "execution_count": null,
      "outputs": [
        {
          "output_type": "stream",
          "name": "stdout",
          "text": [
            "<class 'pandas.core.frame.DataFrame'>\n",
            "RangeIndex: 15 entries, 0 to 14\n",
            "Data columns (total 2 columns):\n",
            " #   Column  Non-Null Count  Dtype \n",
            "---  ------  --------------  ----- \n",
            " 0   port    15 non-null     object\n",
            " 1   count   15 non-null     int64 \n",
            "dtypes: int64(1), object(1)\n",
            "memory usage: 368.0+ bytes\n"
          ]
        }
      ]
    },
    {
      "cell_type": "code",
      "source": [
        "ax = sns.barplot(\n",
        "  x = \"count\",\n",
        "  y = \"port\", \n",
        "  data = sport_count\n",
        ")"
      ],
      "metadata": {
        "colab": {
          "base_uri": "https://localhost:8080/",
          "height": 285
        },
        "id": "iUk7CDYniiR8",
        "outputId": "ed2f5f20-1265-484c-f93c-3ddb1d81d598"
      },
      "execution_count": null,
      "outputs": [
        {
          "output_type": "display_data",
          "data": {
            "text/plain": [
              "<Figure size 432x288 with 1 Axes>"
            ],
            "image/png": "[encoded data removed]"
          },
          "metadata": {
            "needs_background": "light"
          }
        }
      ]
    },
    {
      "cell_type": "markdown",
      "source": [
        "**7. Investigación del payload**"
      ],
      "metadata": {
        "id": "_MtEi_92jEad"
      }
    },
    {
      "cell_type": "markdown",
      "source": [
        "> **a. Cree un nuevo DF que incluya únicamente la conversación de la dirección IP origen \n",
        "más frecuente**"
      ],
      "metadata": {
        "id": "te7FiqlsjI2R"
      }
    },
    {
      "cell_type": "code",
      "source": [
        "fqnt_src = df.loc[df[\"src\"] == \"172.28.0.2\"]\n",
        "fqnt_src.head()"
      ],
      "metadata": {
        "colab": {
          "base_uri": "https://localhost:8080/",
          "height": 382
        },
        "id": "6fjK2r6XjRK7",
        "outputId": "5273d804-dbc8-4630-a462-5bc19a09f854"
      },
      "execution_count": null,
      "outputs": [
        {
          "output_type": "execute_result",
          "data": {
            "text/plain": [
              "   version ihl tos   len     id flags frag ttl proto chksum  ... dataofs  \\\n",
              "0        4   5   0   772  33610    DF    0  64     6  23660  ...       8   \n",
              "3        4   5   0    52   7237    DF    0  64     6  50753  ...       8   \n",
              "5        4   5   0  1283  32842    DF    0  64     6  23919  ...       8   \n",
              "9        4   5   0    52  32843    DF    0  64     6  25149  ...       8   \n",
              "10       4   5   0   337  32844    DF    0  64     6  24863  ...       8   \n",
              "\n",
              "   reserved flags window chksum urgptr options payload  \\\n",
              "0         0    PA    501  23348      0       3     720   \n",
              "3         0     A    501  22628      0       3       0   \n",
              "5         0    PA    501  23857      0       3    1231   \n",
              "9         0     A    501  22626      0       3       0   \n",
              "10        0    PA    501  22911      0       3     285   \n",
              "\n",
              "                                          payload_raw  \\\n",
              "0   b'\\x81~\\x02\\xcc{\"header\": {\"msg_id\": \"967cf963...   \n",
              "3                                                 b''   \n",
              "5   b'HTTP/1.1 200 OK\\r\\nContent-Type: text/plain;...   \n",
              "9                                                 b''   \n",
              "10  b'HTTP/1.1 200 OK\\r\\nContent-Type: text/html\\r...   \n",
              "\n",
              "                                          payload_hex  \n",
              "0   b'817e02cc7b22686561646572223a207b226d73675f69...  \n",
              "3                                                 b''  \n",
              "5   b'485454502f312e3120323030204f4b0d0a436f6e7465...  \n",
              "9                                                 b''  \n",
              "10  b'485454502f312e3120323030204f4b0d0a436f6e7465...  \n",
              "\n",
              "[5 rows x 28 columns]"
            ],
            "text/html": [
              "\n",
              "  <div id=\"df-0117c3a8-543d-4434-a4b6-cc2e4da6400f\">\n",
              "    <div class=\"colab-df-container\">\n",
              "      <div>\n",
              "<style scoped>\n",
              "    .dataframe tbody tr th:only-of-type {\n",
              "        vertical-align: middle;\n",
              "    }\n",
              "\n",
              "    .dataframe tbody tr th {\n",
              "        vertical-align: top;\n",
              "    }\n",
              "\n",
              "    .dataframe thead th {\n",
              "        text-align: right;\n",
              "    }\n",
              "</style>\n",
              "<table border=\"1\" class=\"dataframe\">\n",
              "  <thead>\n",
              "    <tr style=\"text-align: right;\">\n",
              "      <th></th>\n",
              "      <th>version</th>\n",
              "      <th>ihl</th>\n",
              "      <th>tos</th>\n",
              "      <th>len</th>\n",
              "      <th>id</th>\n",
              "      <th>flags</th>\n",
              "      <th>frag</th>\n",
              "      <th>ttl</th>\n",
              "      <th>proto</th>\n",
              "      <th>chksum</th>\n",
              "      <th>...</th>\n",
              "      <th>dataofs</th>\n",
              "      <th>reserved</th>\n",
              "      <th>flags</th>\n",
              "      <th>window</th>\n",
              "      <th>chksum</th>\n",
              "      <th>urgptr</th>\n",
              "      <th>options</th>\n",
              "      <th>payload</th>\n",
              "      <th>payload_raw</th>\n",
              "      <th>payload_hex</th>\n",
              "    </tr>\n",
              "  </thead>\n",
              "  <tbody>\n",
              "    <tr>\n",
              "      <th>0</th>\n",
              "      <td>4</td>\n",
              "      <td>5</td>\n",
              "      <td>0</td>\n",
              "      <td>772</td>\n",
              "      <td>33610</td>\n",
              "      <td>DF</td>\n",
              "      <td>0</td>\n",
              "      <td>64</td>\n",
              "      <td>6</td>\n",
              "      <td>23660</td>\n",
              "      <td>...</td>\n",
              "      <td>8</td>\n",
              "      <td>0</td>\n",
              "      <td>PA</td>\n",
              "      <td>501</td>\n",
              "      <td>23348</td>\n",
              "      <td>0</td>\n",
              "      <td>3</td>\n",
              "      <td>720</td>\n",
              "      <td>b'\\x81~\\x02\\xcc{\"header\": {\"msg_id\": \"967cf963...</td>\n",
              "      <td>b'817e02cc7b22686561646572223a207b226d73675f69...</td>\n",
              "    </tr>\n",
              "    <tr>\n",
              "      <th>3</th>\n",
              "      <td>4</td>\n",
              "      <td>5</td>\n",
              "      <td>0</td>\n",
              "      <td>52</td>\n",
              "      <td>7237</td>\n",
              "      <td>DF</td>\n",
              "      <td>0</td>\n",
              "      <td>64</td>\n",
              "      <td>6</td>\n",
              "      <td>50753</td>\n",
              "      <td>...</td>\n",
              "      <td>8</td>\n",
              "      <td>0</td>\n",
              "      <td>A</td>\n",
              "      <td>501</td>\n",
              "      <td>22628</td>\n",
              "      <td>0</td>\n",
              "      <td>3</td>\n",
              "      <td>0</td>\n",
              "      <td>b''</td>\n",
              "      <td>b''</td>\n",
              "    </tr>\n",
              "    <tr>\n",
              "      <th>5</th>\n",
              "      <td>4</td>\n",
              "      <td>5</td>\n",
              "      <td>0</td>\n",
              "      <td>1283</td>\n",
              "      <td>32842</td>\n",
              "      <td>DF</td>\n",
              "      <td>0</td>\n",
              "      <td>64</td>\n",
              "      <td>6</td>\n",
              "      <td>23919</td>\n",
              "      <td>...</td>\n",
              "      <td>8</td>\n",
              "      <td>0</td>\n",
              "      <td>PA</td>\n",
              "      <td>501</td>\n",
              "      <td>23857</td>\n",
              "      <td>0</td>\n",
              "      <td>3</td>\n",
              "      <td>1231</td>\n",
              "      <td>b'HTTP/1.1 200 OK\\r\\nContent-Type: text/plain;...</td>\n",
              "      <td>b'485454502f312e3120323030204f4b0d0a436f6e7465...</td>\n",
              "    </tr>\n",
              "    <tr>\n",
              "      <th>9</th>\n",
              "      <td>4</td>\n",
              "      <td>5</td>\n",
              "      <td>0</td>\n",
              "      <td>52</td>\n",
              "      <td>32843</td>\n",
              "      <td>DF</td>\n",
              "      <td>0</td>\n",
              "      <td>64</td>\n",
              "      <td>6</td>\n",
              "      <td>25149</td>\n",
              "      <td>...</td>\n",
              "      <td>8</td>\n",
              "      <td>0</td>\n",
              "      <td>A</td>\n",
              "      <td>501</td>\n",
              "      <td>22626</td>\n",
              "      <td>0</td>\n",
              "      <td>3</td>\n",
              "      <td>0</td>\n",
              "      <td>b''</td>\n",
              "      <td>b''</td>\n",
              "    </tr>\n",
              "    <tr>\n",
              "      <th>10</th>\n",
              "      <td>4</td>\n",
              "      <td>5</td>\n",
              "      <td>0</td>\n",
              "      <td>337</td>\n",
              "      <td>32844</td>\n",
              "      <td>DF</td>\n",
              "      <td>0</td>\n",
              "      <td>64</td>\n",
              "      <td>6</td>\n",
              "      <td>24863</td>\n",
              "      <td>...</td>\n",
              "      <td>8</td>\n",
              "      <td>0</td>\n",
              "      <td>PA</td>\n",
              "      <td>501</td>\n",
              "      <td>22911</td>\n",
              "      <td>0</td>\n",
              "      <td>3</td>\n",
              "      <td>285</td>\n",
              "      <td>b'HTTP/1.1 200 OK\\r\\nContent-Type: text/html\\r...</td>\n",
              "      <td>b'485454502f312e3120323030204f4b0d0a436f6e7465...</td>\n",
              "    </tr>\n",
              "  </tbody>\n",
              "</table>\n",
              "<p>5 rows × 28 columns</p>\n",
              "</div>\n",
              "      <button class=\"colab-df-convert\" onclick=\"convertToInteractive('df-0117c3a8-543d-4434-a4b6-cc2e4da6400f')\"\n",
              "              title=\"Convert this dataframe to an interactive table.\"\n",
              "              style=\"display:none;\">\n",
              "        \n",
              "  <svg xmlns=\"http://www.w3.org/2000/svg\" height=\"24px\"viewBox=\"0 0 24 24\"\n",
              "       width=\"24px\">\n",
              "    <path d=\"M0 0h24v24H0V0z\" fill=\"none\"/>\n",
              "    <path d=\"M18.56 5.44l.94 2.06.94-2.06 2.06-.94-2.06-.94-.94-2.06-.94 2.06-2.06.94zm-11 1L8.5 8.5l.94-2.06 2.06-.94-2.06-.94L8.5 2.5l-.94 2.06-2.06.94zm10 10l.94 2.06.94-2.06 2.06-.94-2.06-.94-.94-2.06-.94 2.06-2.06.94z\"/><path d=\"M17.41 7.96l-1.37-1.37c-.4-.4-.92-.59-1.43-.59-.52 0-1.04.2-1.43.59L10.3 9.45l-7.72 7.72c-.78.78-.78 2.05 0 2.83L4 21.41c.39.39.9.59 1.41.59.51 0 1.02-.2 1.41-.59l7.78-7.78 2.81-2.81c.8-.78.8-2.07 0-2.86zM5.41 20L4 18.59l7.72-7.72 1.47 1.35L5.41 20z\"/>\n",
              "  </svg>\n",
              "      </button>\n",
              "      \n",
              "  <style>\n",
              "    .colab-df-container {\n",
              "      display:flex;\n",
              "      flex-wrap:wrap;\n",
              "      gap: 12px;\n",
              "    }\n",
              "\n",
              "    .colab-df-convert {\n",
              "      background-color: #E8F0FE;\n",
              "      border: none;\n",
              "      border-radius: 50%;\n",
              "      cursor: pointer;\n",
              "      display: none;\n",
              "      fill: #1967D2;\n",
              "      height: 32px;\n",
              "      padding: 0 0 0 0;\n",
              "      width: 32px;\n",
              "    }\n",
              "\n",
              "    .colab-df-convert:hover {\n",
              "      background-color: #E2EBFA;\n",
              "      box-shadow: 0px 1px 2px rgba(60, 64, 67, 0.3), 0px 1px 3px 1px rgba(60, 64, 67, 0.15);\n",
              "      fill: #174EA6;\n",
              "    }\n",
              "\n",
              "    [theme=dark] .colab-df-convert {\n",
              "      background-color: #3B4455;\n",
              "      fill: #D2E3FC;\n",
              "    }\n",
              "\n",
              "    [theme=dark] .colab-df-convert:hover {\n",
              "      background-color: #434B5C;\n",
              "      box-shadow: 0px 1px 3px 1px rgba(0, 0, 0, 0.15);\n",
              "      filter: drop-shadow(0px 1px 2px rgba(0, 0, 0, 0.3));\n",
              "      fill: #FFFFFF;\n",
              "    }\n",
              "  </style>\n",
              "\n",
              "      <script>\n",
              "        const buttonEl =\n",
              "          document.querySelector('#df-0117c3a8-543d-4434-a4b6-cc2e4da6400f button.colab-df-convert');\n",
              "        buttonEl.style.display =\n",
              "          google.colab.kernel.accessAllowed ? 'block' : 'none';\n",
              "\n",
              "        async function convertToInteractive(key) {\n",
              "          const element = document.querySelector('#df-0117c3a8-543d-4434-a4b6-cc2e4da6400f');\n",
              "          const dataTable =\n",
              "            await google.colab.kernel.invokeFunction('convertToInteractive',\n",
              "                                                     [key], {});\n",
              "          if (!dataTable) return;\n",
              "\n",
              "          const docLinkHtml = 'Like what you see? Visit the ' +\n",
              "            '<a target=\"_blank\" href=https://colab.research.google.com/notebooks/data_table.ipynb>data table notebook</a>'\n",
              "            + ' to learn more about interactive tables.';\n",
              "          element.innerHTML = '';\n",
              "          dataTable['output_type'] = 'display_data';\n",
              "          await google.colab.output.renderOutput(dataTable, element);\n",
              "          const docLink = document.createElement('div');\n",
              "          docLink.innerHTML = docLinkHtml;\n",
              "          element.appendChild(docLink);\n",
              "        }\n",
              "      </script>\n",
              "    </div>\n",
              "  </div>\n",
              "  "
            ]
          },
          "metadata": {},
          "execution_count": 12
        }
      ]
    },
    {
      "cell_type": "markdown",
      "source": [
        "> **b. Obtenga un nuevo DF con las columnas Src Address, Dst Address y agrúpelas por \n",
        "payload**"
      ],
      "metadata": {
        "id": "n5nYEs-4uNT3"
      }
    },
    {
      "cell_type": "code",
      "source": [
        "srcs = fqnt_src[['src', 'dst', 'payload']]\n",
        "payload_gb = srcs.groupby(\"payload\")\n",
        "payload_gb.head()"
      ],
      "metadata": {
        "colab": {
          "base_uri": "https://localhost:8080/",
          "height": 731
        },
        "id": "OkvUg2EwuM-V",
        "outputId": "a86a7374-7dac-4843-a003-383cdd5acace"
      },
      "execution_count": 61,
      "outputs": [
        {
          "output_type": "execute_result",
          "data": {
            "text/plain": [
              "           src         dst payload\n",
              "0   172.28.0.2  172.28.0.3     720\n",
              "3   172.28.0.2  172.28.0.3       0\n",
              "5   172.28.0.2  172.28.0.1    1231\n",
              "9   172.28.0.2  172.28.0.1       0\n",
              "10  172.28.0.2  172.28.0.1     285\n",
              "13  172.28.0.2  172.28.0.1    1102\n",
              "17  172.28.0.2  172.28.0.1       0\n",
              "18  172.28.0.2  172.28.0.1     285\n",
              "20  172.28.0.2  172.28.0.3     404\n",
              "23  172.28.0.2  172.28.0.3       0\n",
              "25  172.28.0.2  172.28.0.1     248\n",
              "29  172.28.0.2  172.28.0.1       0\n",
              "33  172.28.0.2  172.28.0.1    1340\n",
              "37  172.28.0.2  172.28.0.1     285\n",
              "40  172.28.0.2  172.28.0.1    1194\n",
              "45  172.28.0.2  172.28.0.1     285\n",
              "55  172.28.0.2  172.28.0.1     285\n",
              "57  172.28.0.2  172.28.0.1     498\n",
              "61  172.28.0.2  172.28.0.1    1138\n",
              "71  172.28.0.2  172.28.0.1    1127\n",
              "80  172.28.0.2  172.28.0.1     416\n",
              "89  172.28.0.2  172.28.0.1     408"
            ],
            "text/html": [
              "\n",
              "  <div id=\"df-01e977c9-5dc5-4f8e-8b76-0073e30b3f8c\">\n",
              "    <div class=\"colab-df-container\">\n",
              "      <div>\n",
              "<style scoped>\n",
              "    .dataframe tbody tr th:only-of-type {\n",
              "        vertical-align: middle;\n",
              "    }\n",
              "\n",
              "    .dataframe tbody tr th {\n",
              "        vertical-align: top;\n",
              "    }\n",
              "\n",
              "    .dataframe thead th {\n",
              "        text-align: right;\n",
              "    }\n",
              "</style>\n",
              "<table border=\"1\" class=\"dataframe\">\n",
              "  <thead>\n",
              "    <tr style=\"text-align: right;\">\n",
              "      <th></th>\n",
              "      <th>src</th>\n",
              "      <th>dst</th>\n",
              "      <th>payload</th>\n",
              "    </tr>\n",
              "  </thead>\n",
              "  <tbody>\n",
              "    <tr>\n",
              "      <th>0</th>\n",
              "      <td>172.28.0.2</td>\n",
              "      <td>172.28.0.3</td>\n",
              "      <td>720</td>\n",
              "    </tr>\n",
              "    <tr>\n",
              "      <th>3</th>\n",
              "      <td>172.28.0.2</td>\n",
              "      <td>172.28.0.3</td>\n",
              "      <td>0</td>\n",
              "    </tr>\n",
              "    <tr>\n",
              "      <th>5</th>\n",
              "      <td>172.28.0.2</td>\n",
              "      <td>172.28.0.1</td>\n",
              "      <td>1231</td>\n",
              "    </tr>\n",
              "    <tr>\n",
              "      <th>9</th>\n",
              "      <td>172.28.0.2</td>\n",
              "      <td>172.28.0.1</td>\n",
              "      <td>0</td>\n",
              "    </tr>\n",
              "    <tr>\n",
              "      <th>10</th>\n",
              "      <td>172.28.0.2</td>\n",
              "      <td>172.28.0.1</td>\n",
              "      <td>285</td>\n",
              "    </tr>\n",
              "    <tr>\n",
              "      <th>13</th>\n",
              "      <td>172.28.0.2</td>\n",
              "      <td>172.28.0.1</td>\n",
              "      <td>1102</td>\n",
              "    </tr>\n",
              "    <tr>\n",
              "      <th>17</th>\n",
              "      <td>172.28.0.2</td>\n",
              "      <td>172.28.0.1</td>\n",
              "      <td>0</td>\n",
              "    </tr>\n",
              "    <tr>\n",
              "      <th>18</th>\n",
              "      <td>172.28.0.2</td>\n",
              "      <td>172.28.0.1</td>\n",
              "      <td>285</td>\n",
              "    </tr>\n",
              "    <tr>\n",
              "      <th>20</th>\n",
              "      <td>172.28.0.2</td>\n",
              "      <td>172.28.0.3</td>\n",
              "      <td>404</td>\n",
              "    </tr>\n",
              "    <tr>\n",
              "      <th>23</th>\n",
              "      <td>172.28.0.2</td>\n",
              "      <td>172.28.0.3</td>\n",
              "      <td>0</td>\n",
              "    </tr>\n",
              "    <tr>\n",
              "      <th>25</th>\n",
              "      <td>172.28.0.2</td>\n",
              "      <td>172.28.0.1</td>\n",
              "      <td>248</td>\n",
              "    </tr>\n",
              "    <tr>\n",
              "      <th>29</th>\n",
              "      <td>172.28.0.2</td>\n",
              "      <td>172.28.0.1</td>\n",
              "      <td>0</td>\n",
              "    </tr>\n",
              "    <tr>\n",
              "      <th>33</th>\n",
              "      <td>172.28.0.2</td>\n",
              "      <td>172.28.0.1</td>\n",
              "      <td>1340</td>\n",
              "    </tr>\n",
              "    <tr>\n",
              "      <th>37</th>\n",
              "      <td>172.28.0.2</td>\n",
              "      <td>172.28.0.1</td>\n",
              "      <td>285</td>\n",
              "    </tr>\n",
              "    <tr>\n",
              "      <th>40</th>\n",
              "      <td>172.28.0.2</td>\n",
              "      <td>172.28.0.1</td>\n",
              "      <td>1194</td>\n",
              "    </tr>\n",
              "    <tr>\n",
              "      <th>45</th>\n",
              "      <td>172.28.0.2</td>\n",
              "      <td>172.28.0.1</td>\n",
              "      <td>285</td>\n",
              "    </tr>\n",
              "    <tr>\n",
              "      <th>55</th>\n",
              "      <td>172.28.0.2</td>\n",
              "      <td>172.28.0.1</td>\n",
              "      <td>285</td>\n",
              "    </tr>\n",
              "    <tr>\n",
              "      <th>57</th>\n",
              "      <td>172.28.0.2</td>\n",
              "      <td>172.28.0.1</td>\n",
              "      <td>498</td>\n",
              "    </tr>\n",
              "    <tr>\n",
              "      <th>61</th>\n",
              "      <td>172.28.0.2</td>\n",
              "      <td>172.28.0.1</td>\n",
              "      <td>1138</td>\n",
              "    </tr>\n",
              "    <tr>\n",
              "      <th>71</th>\n",
              "      <td>172.28.0.2</td>\n",
              "      <td>172.28.0.1</td>\n",
              "      <td>1127</td>\n",
              "    </tr>\n",
              "    <tr>\n",
              "      <th>80</th>\n",
              "      <td>172.28.0.2</td>\n",
              "      <td>172.28.0.1</td>\n",
              "      <td>416</td>\n",
              "    </tr>\n",
              "    <tr>\n",
              "      <th>89</th>\n",
              "      <td>172.28.0.2</td>\n",
              "      <td>172.28.0.1</td>\n",
              "      <td>408</td>\n",
              "    </tr>\n",
              "  </tbody>\n",
              "</table>\n",
              "</div>\n",
              "      <button class=\"colab-df-convert\" onclick=\"convertToInteractive('df-01e977c9-5dc5-4f8e-8b76-0073e30b3f8c')\"\n",
              "              title=\"Convert this dataframe to an interactive table.\"\n",
              "              style=\"display:none;\">\n",
              "        \n",
              "  <svg xmlns=\"http://www.w3.org/2000/svg\" height=\"24px\"viewBox=\"0 0 24 24\"\n",
              "       width=\"24px\">\n",
              "    <path d=\"M0 0h24v24H0V0z\" fill=\"none\"/>\n",
              "    <path d=\"M18.56 5.44l.94 2.06.94-2.06 2.06-.94-2.06-.94-.94-2.06-.94 2.06-2.06.94zm-11 1L8.5 8.5l.94-2.06 2.06-.94-2.06-.94L8.5 2.5l-.94 2.06-2.06.94zm10 10l.94 2.06.94-2.06 2.06-.94-2.06-.94-.94-2.06-.94 2.06-2.06.94z\"/><path d=\"M17.41 7.96l-1.37-1.37c-.4-.4-.92-.59-1.43-.59-.52 0-1.04.2-1.43.59L10.3 9.45l-7.72 7.72c-.78.78-.78 2.05 0 2.83L4 21.41c.39.39.9.59 1.41.59.51 0 1.02-.2 1.41-.59l7.78-7.78 2.81-2.81c.8-.78.8-2.07 0-2.86zM5.41 20L4 18.59l7.72-7.72 1.47 1.35L5.41 20z\"/>\n",
              "  </svg>\n",
              "      </button>\n",
              "      \n",
              "  <style>\n",
              "    .colab-df-container {\n",
              "      display:flex;\n",
              "      flex-wrap:wrap;\n",
              "      gap: 12px;\n",
              "    }\n",
              "\n",
              "    .colab-df-convert {\n",
              "      background-color: #E8F0FE;\n",
              "      border: none;\n",
              "      border-radius: 50%;\n",
              "      cursor: pointer;\n",
              "      display: none;\n",
              "      fill: #1967D2;\n",
              "      height: 32px;\n",
              "      padding: 0 0 0 0;\n",
              "      width: 32px;\n",
              "    }\n",
              "\n",
              "    .colab-df-convert:hover {\n",
              "      background-color: #E2EBFA;\n",
              "      box-shadow: 0px 1px 2px rgba(60, 64, 67, 0.3), 0px 1px 3px 1px rgba(60, 64, 67, 0.15);\n",
              "      fill: #174EA6;\n",
              "    }\n",
              "\n",
              "    [theme=dark] .colab-df-convert {\n",
              "      background-color: #3B4455;\n",
              "      fill: #D2E3FC;\n",
              "    }\n",
              "\n",
              "    [theme=dark] .colab-df-convert:hover {\n",
              "      background-color: #434B5C;\n",
              "      box-shadow: 0px 1px 3px 1px rgba(0, 0, 0, 0.15);\n",
              "      filter: drop-shadow(0px 1px 2px rgba(0, 0, 0, 0.3));\n",
              "      fill: #FFFFFF;\n",
              "    }\n",
              "  </style>\n",
              "\n",
              "      <script>\n",
              "        const buttonEl =\n",
              "          document.querySelector('#df-01e977c9-5dc5-4f8e-8b76-0073e30b3f8c button.colab-df-convert');\n",
              "        buttonEl.style.display =\n",
              "          google.colab.kernel.accessAllowed ? 'block' : 'none';\n",
              "\n",
              "        async function convertToInteractive(key) {\n",
              "          const element = document.querySelector('#df-01e977c9-5dc5-4f8e-8b76-0073e30b3f8c');\n",
              "          const dataTable =\n",
              "            await google.colab.kernel.invokeFunction('convertToInteractive',\n",
              "                                                     [key], {});\n",
              "          if (!dataTable) return;\n",
              "\n",
              "          const docLinkHtml = 'Like what you see? Visit the ' +\n",
              "            '<a target=\"_blank\" href=https://colab.research.google.com/notebooks/data_table.ipynb>data table notebook</a>'\n",
              "            + ' to learn more about interactive tables.';\n",
              "          element.innerHTML = '';\n",
              "          dataTable['output_type'] = 'display_data';\n",
              "          await google.colab.output.renderOutput(dataTable, element);\n",
              "          const docLink = document.createElement('div');\n",
              "          docLink.innerHTML = docLinkHtml;\n",
              "          element.appendChild(docLink);\n",
              "        }\n",
              "      </script>\n",
              "    </div>\n",
              "  </div>\n",
              "  "
            ]
          },
          "metadata": {},
          "execution_count": 61
        }
      ]
    },
    {
      "cell_type": "markdown",
      "source": [
        "> **c. Obtenga la IP que más ha intercambiado bytes con la IP más frecuente.  Esta IP es \n",
        "sospechosa por la cantidad de bytes intercambiados, entre todas las direcciones.**"
      ],
      "metadata": {
        "id": "zGWThQF0vUBv"
      }
    },
    {
      "cell_type": "code",
      "source": [
        "sketchy_dst_ip = srcs[srcs.payload == srcs.payload.max()].iloc[0,1]\n",
        "sketchy_dst_ip"
      ],
      "metadata": {
        "colab": {
          "base_uri": "https://localhost:8080/",
          "height": 37
        },
        "id": "TkHO_LOkvTsJ",
        "outputId": "af310370-34bc-40d8-bbf7-c147fd4ee899"
      },
      "execution_count": 70,
      "outputs": [
        {
          "output_type": "execute_result",
          "data": {
            "text/plain": [
              "'172.28.0.1'"
            ],
            "application/vnd.google.colaboratory.intrinsic+json": {
              "type": "string"
            }
          },
          "metadata": {},
          "execution_count": 70
        }
      ]
    },
    {
      "cell_type": "markdown",
      "source": [
        "> **d. Cree un nuevo DF con la conversación entre la IP más frecuenta y la IP sospechosa.**\n"
      ],
      "metadata": {
        "id": "NjXJ6fcBD65H"
      }
    },
    {
      "cell_type": "code",
      "source": [
        "sketchy_conv = srcs[srcs.payload == srcs.payload.max()]\n",
        "sketchy_conv"
      ],
      "metadata": {
        "colab": {
          "base_uri": "https://localhost:8080/",
          "height": 80
        },
        "id": "by4RrTQVD_Gf",
        "outputId": "f0e6f151-ee9e-4a04-c414-280f8d8a44dc"
      },
      "execution_count": 71,
      "outputs": [
        {
          "output_type": "execute_result",
          "data": {
            "text/plain": [
              "           src         dst payload\n",
              "33  172.28.0.2  172.28.0.1    1340"
            ],
            "text/html": [
              "\n",
              "  <div id=\"df-25fe488b-a210-4fef-ae90-1c80ce7a4530\">\n",
              "    <div class=\"colab-df-container\">\n",
              "      <div>\n",
              "<style scoped>\n",
              "    .dataframe tbody tr th:only-of-type {\n",
              "        vertical-align: middle;\n",
              "    }\n",
              "\n",
              "    .dataframe tbody tr th {\n",
              "        vertical-align: top;\n",
              "    }\n",
              "\n",
              "    .dataframe thead th {\n",
              "        text-align: right;\n",
              "    }\n",
              "</style>\n",
              "<table border=\"1\" class=\"dataframe\">\n",
              "  <thead>\n",
              "    <tr style=\"text-align: right;\">\n",
              "      <th></th>\n",
              "      <th>src</th>\n",
              "      <th>dst</th>\n",
              "      <th>payload</th>\n",
              "    </tr>\n",
              "  </thead>\n",
              "  <tbody>\n",
              "    <tr>\n",
              "      <th>33</th>\n",
              "      <td>172.28.0.2</td>\n",
              "      <td>172.28.0.1</td>\n",
              "      <td>1340</td>\n",
              "    </tr>\n",
              "  </tbody>\n",
              "</table>\n",
              "</div>\n",
              "      <button class=\"colab-df-convert\" onclick=\"convertToInteractive('df-25fe488b-a210-4fef-ae90-1c80ce7a4530')\"\n",
              "              title=\"Convert this dataframe to an interactive table.\"\n",
              "              style=\"display:none;\">\n",
              "        \n",
              "  <svg xmlns=\"http://www.w3.org/2000/svg\" height=\"24px\"viewBox=\"0 0 24 24\"\n",
              "       width=\"24px\">\n",
              "    <path d=\"M0 0h24v24H0V0z\" fill=\"none\"/>\n",
              "    <path d=\"M18.56 5.44l.94 2.06.94-2.06 2.06-.94-2.06-.94-.94-2.06-.94 2.06-2.06.94zm-11 1L8.5 8.5l.94-2.06 2.06-.94-2.06-.94L8.5 2.5l-.94 2.06-2.06.94zm10 10l.94 2.06.94-2.06 2.06-.94-2.06-.94-.94-2.06-.94 2.06-2.06.94z\"/><path d=\"M17.41 7.96l-1.37-1.37c-.4-.4-.92-.59-1.43-.59-.52 0-1.04.2-1.43.59L10.3 9.45l-7.72 7.72c-.78.78-.78 2.05 0 2.83L4 21.41c.39.39.9.59 1.41.59.51 0 1.02-.2 1.41-.59l7.78-7.78 2.81-2.81c.8-.78.8-2.07 0-2.86zM5.41 20L4 18.59l7.72-7.72 1.47 1.35L5.41 20z\"/>\n",
              "  </svg>\n",
              "      </button>\n",
              "      \n",
              "  <style>\n",
              "    .colab-df-container {\n",
              "      display:flex;\n",
              "      flex-wrap:wrap;\n",
              "      gap: 12px;\n",
              "    }\n",
              "\n",
              "    .colab-df-convert {\n",
              "      background-color: #E8F0FE;\n",
              "      border: none;\n",
              "      border-radius: 50%;\n",
              "      cursor: pointer;\n",
              "      display: none;\n",
              "      fill: #1967D2;\n",
              "      height: 32px;\n",
              "      padding: 0 0 0 0;\n",
              "      width: 32px;\n",
              "    }\n",
              "\n",
              "    .colab-df-convert:hover {\n",
              "      background-color: #E2EBFA;\n",
              "      box-shadow: 0px 1px 2px rgba(60, 64, 67, 0.3), 0px 1px 3px 1px rgba(60, 64, 67, 0.15);\n",
              "      fill: #174EA6;\n",
              "    }\n",
              "\n",
              "    [theme=dark] .colab-df-convert {\n",
              "      background-color: #3B4455;\n",
              "      fill: #D2E3FC;\n",
              "    }\n",
              "\n",
              "    [theme=dark] .colab-df-convert:hover {\n",
              "      background-color: #434B5C;\n",
              "      box-shadow: 0px 1px 3px 1px rgba(0, 0, 0, 0.15);\n",
              "      filter: drop-shadow(0px 1px 2px rgba(0, 0, 0, 0.3));\n",
              "      fill: #FFFFFF;\n",
              "    }\n",
              "  </style>\n",
              "\n",
              "      <script>\n",
              "        const buttonEl =\n",
              "          document.querySelector('#df-25fe488b-a210-4fef-ae90-1c80ce7a4530 button.colab-df-convert');\n",
              "        buttonEl.style.display =\n",
              "          google.colab.kernel.accessAllowed ? 'block' : 'none';\n",
              "\n",
              "        async function convertToInteractive(key) {\n",
              "          const element = document.querySelector('#df-25fe488b-a210-4fef-ae90-1c80ce7a4530');\n",
              "          const dataTable =\n",
              "            await google.colab.kernel.invokeFunction('convertToInteractive',\n",
              "                                                     [key], {});\n",
              "          if (!dataTable) return;\n",
              "\n",
              "          const docLinkHtml = 'Like what you see? Visit the ' +\n",
              "            '<a target=\"_blank\" href=https://colab.research.google.com/notebooks/data_table.ipynb>data table notebook</a>'\n",
              "            + ' to learn more about interactive tables.';\n",
              "          element.innerHTML = '';\n",
              "          dataTable['output_type'] = 'display_data';\n",
              "          await google.colab.output.renderOutput(dataTable, element);\n",
              "          const docLink = document.createElement('div');\n",
              "          docLink.innerHTML = docLinkHtml;\n",
              "          element.appendChild(docLink);\n",
              "        }\n",
              "      </script>\n",
              "    </div>\n",
              "  </div>\n",
              "  "
            ]
          },
          "metadata": {},
          "execution_count": 71
        }
      ]
    }
  ],
  "metadata": {
    "kernelspec": {
      "display_name": "Python 3.8.9 64-bit ('env')",
      "name": "python389jvsc74a57bd00359212e9e957a117594987865e2fdb80520291d4bb8ad8384adee39f99b680c"
    },
    "language_info": {
      "codemirror_mode": {
        "name": "ipython",
        "version": 3
      },
      "file_extension": ".py",
      "mimetype": "text/x-python",
      "name": "python",
      "nbconvert_exporter": "python",
      "pygments_lexer": "ipython3",
      "version": "3.8.9"
    },
    "colab": {
      "name": "lab05.ipynb",
      "provenance": []
    }
  },
  "nbformat": 4,
  "nbformat_minor": 0
}